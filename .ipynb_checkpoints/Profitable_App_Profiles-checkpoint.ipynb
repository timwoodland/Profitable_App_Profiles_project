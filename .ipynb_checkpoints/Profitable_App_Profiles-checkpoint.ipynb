{
 "cells": [
  {
   "cell_type": "markdown",
   "metadata": {},
   "source": [
    "# Project Overview\n",
    "This is a guided project at the end of module 1. The purpose of this project is to apply the skills learnt in this module, including:\n",
    "- The basics of programming in Python (arithmetical operations, variables, common data types, etc.)\n",
    "- List and for loops\n",
    "- Conditional statements\n",
    "- Dictionaries and frequency tables\n",
    "- Functions\n",
    "- Jupyter Notebook\n",
    "\n",
    "### Project scenario\n",
    "For this project, we'll pretend we're working as data analysts for a company that builds Android and iOS mobile apps. We make our apps available on Google Play and the App Store.\n",
    "\n",
    "We only build apps that are free to download and install, and our main source of revenue consists of in-app ads. This means our revenue for any given app is mostly influenced by the number of users who use our app — the more users that see and engage with the ads, the better. Our goal for this project is to analyze data to help our developers understand what type of apps are likely to attract more users."
   ]
  },
  {
   "cell_type": "code",
   "execution_count": 1,
   "metadata": {},
   "outputs": [],
   "source": [
    "opened_file = open('Apple iOS Store/AppleStore.csv')\n",
    "from csv import reader\n",
    "read_file = reader(opened_file)\n",
    "ios_apps_data = list(read_file)\n",
    "\n",
    "opened_file = open('Google Play Store/googleplaystore.csv')\n",
    "from csv import reader\n",
    "read_file = reader(opened_file)\n",
    "gp_apps_data = list(read_file)\n",
    "\n",
    "def explore_data(dataset, start, end, rows_and_columns=False):\n",
    "    dataset_slice = dataset[start:end]    \n",
    "    for row in dataset_slice:\n",
    "        print(row)\n",
    "        print('\\n') # adds a new (empty) line after each row\n",
    "\n",
    "    if rows_and_columns:\n",
    "        print('Number of rows:', len(dataset))\n",
    "        print('Number of columns:', len(dataset[0]))"
   ]
  },
  {
   "cell_type": "markdown",
   "metadata": {},
   "source": [
    "## iOS Data Summary\n",
    "\n",
    "The iOS dataset has 7197 rows of data (excluding the header). There are 17 columns of data.\n",
    "\\\n",
    "Here is a [link](https://www.kaggle.com/ramamet4/app-store-apple-data-set-10k-apps) to the source data.\n",
    "\\\n",
    "The columns are:\n",
    "\n",
    "| 0   | 1      | 2          | 3               | 4             | 5            | 6                                    | 7                                        | 8                                           | 9                                               | 10                  | 11             | 12             | 13                            | 14                                       | 15                            | 16                                 |\n",
    "|:----|:-------|:-----------|:----------------|:--------------|:-------------|:-------------------------------------|:-----------------------------------------|:--------------------------------------------|:------------------------------------------------|:--------------------|:---------------|:---------------|:------------------------------|:-----------------------------------------|:------------------------------|:-----------------------------------|\n",
    "|     | id     | track_name | size_bytes      | currency      | price        | rating_count_tot                     | rating_count_ver                         | user_rating                                 | user_rating_ver                                 | ver                 | cont_rating    | prime_genre    | sup_devices.num               | ipadSc_urls.num                          | lang.num                      | vpp_lic                            |\n",
    "| Row | App ID | App Name   | Size (in Bytes) | Currency Type | Price amount | User Rating counts (for all version) | User Rating counts (for current version) | Average User Rating value (for all version) | Average User Rating value (for current version) | Latest version code | Content Rating | Primary GenreÊ | Number of supporting devicesÊ | Number of screenshots showed for display | Number of supported languages | Vpp Device Based Licensing Enabled |\n",
    "\n"
   ]
  },
  {
   "cell_type": "code",
   "execution_count": 2,
   "metadata": {
    "scrolled": false
   },
   "outputs": [
    {
     "name": "stdout",
     "output_type": "stream",
     "text": [
      "iOS Data Summary\n",
      "Number of rows excl header:  7197\n",
      "Number of columns:  17\n",
      "\n",
      "\n",
      "['', 'id', 'track_name', 'size_bytes', 'currency', 'price', 'rating_count_tot', 'rating_count_ver', 'user_rating', 'user_rating_ver', 'ver', 'cont_rating', 'prime_genre', 'sup_devices.num', 'ipadSc_urls.num', 'lang.num', 'vpp_lic']\n",
      "\n",
      "\n",
      "['1', '281656475', 'PAC-MAN Premium', '100788224', 'USD', '3.99', '21292', '26', '4', '4.5', '6.3.5', '4+', 'Games', '38', '5', '10', '1']\n",
      "\n",
      "\n",
      "['2', '281796108', 'Evernote - stay organized', '158578688', 'USD', '0', '161065', '26', '4', '3.5', '8.2.2', '4+', 'Productivity', '37', '5', '23', '1']\n",
      "\n",
      "\n",
      "['3', '281940292', 'WeatherBug - Local Weather, Radar, Maps, Alerts', '100524032', 'USD', '0', '188583', '2822', '3.5', '4.5', '5.0.0', '4+', 'Weather', '37', '5', '3', '1']\n",
      "\n",
      "\n",
      "['4', '282614216', 'eBay: Best App to Buy, Sell, Save! Online Shopping', '128512000', 'USD', '0', '262241', '649', '4', '4.5', '5.10.0', '12+', 'Shopping', '37', '5', '9', '1']\n",
      "\n",
      "\n",
      "['5', '282935706', 'Bible', '92774400', 'USD', '0', '985920', '5320', '4.5', '5', '7.5.1', '4+', 'Reference', '37', '5', '45', '1']\n",
      "\n",
      "\n"
     ]
    }
   ],
   "source": [
    "print('iOS Data Summary')\n",
    "print('Number of rows excl header: ', len(ios_apps_data[1:]))\n",
    "print('Number of columns: ', len(ios_apps_data[0]))\n",
    "print('\\n')\n",
    "explore_data(ios_apps_data, 0, 6)"
   ]
  },
  {
   "cell_type": "markdown",
   "metadata": {},
   "source": [
    "## Google App Store Data Summary\n",
    "The Google App Store data has 10841 rows (exluding the header) and has 13 columns.\n",
    "\\\n",
    "Here is a [link](https://www.kaggle.com/lava18/google-play-store-apps) to the source data\n",
    "\\\n",
    "The columns are:\n",
    "\n",
    "\n",
    "| 0        | 1                           | 2                              | 3                                  | 4               | 5                                             | 6            | 7                | 8                                                                | 9                                   | 10                                               | 11                                                 | 12                           |\n",
    "|:---------|:----------------------------|:-------------------------------|:-----------------------------------|:----------------|:----------------------------------------------|:-------------|:-----------------|:-----------------------------------------------------------------|:-------------------------------------|:-------------------------------------------------|:---------------------------------------------------|:-----------------------------|\n",
    "| App      | Category                    | Rating                         | Reviews                            | Size            | Installs                                      | Type         | Price            | Content Rating                                                   | Genres                               | Last Updated                                     | Current Ver                                        | Android Ver                  |\n",
    "| App name | Category the App belongs to | Overall user rating of the app | Number of user reviews for the app | Size of the app | Number of user downloads/installs for the app | Paid or Free | Price of the app | Age group the app is targeted at - Children / Mature 21+ / Adult | An app can belong to multiple genres | Date when the app was last updated on Play Store | Current version of the app available on Play Store | Min required Android version |\n"
   ]
  },
  {
   "cell_type": "code",
   "execution_count": 3,
   "metadata": {},
   "outputs": [
    {
     "name": "stdout",
     "output_type": "stream",
     "text": [
      "Google Plan Data Summary\n",
      "Number of rows excl header:  10841\n",
      "Number of columns:  13\n",
      "\n",
      "\n",
      "['App', 'Category', 'Rating', 'Reviews', 'Size', 'Installs', 'Type', 'Price', 'Content Rating', 'Genres', 'Last Updated', 'Current Ver', 'Android Ver']\n",
      "\n",
      "\n",
      "['Photo Editor & Candy Camera & Grid & ScrapBook', 'ART_AND_DESIGN', '4.1', '159', '19M', '10,000+', 'Free', '0', 'Everyone', 'Art & Design', 'January 7, 2018', '1.0.0', '4.0.3 and up']\n",
      "\n",
      "\n",
      "['Coloring book moana', 'ART_AND_DESIGN', '3.9', '967', '14M', '500,000+', 'Free', '0', 'Everyone', 'Art & Design;Pretend Play', 'January 15, 2018', '2.0.0', '4.0.3 and up']\n",
      "\n",
      "\n",
      "['U Launcher Lite – FREE Live Cool Themes, Hide Apps', 'ART_AND_DESIGN', '4.7', '87510', '8.7M', '5,000,000+', 'Free', '0', 'Everyone', 'Art & Design', 'August 1, 2018', '1.2.4', '4.0.3 and up']\n",
      "\n",
      "\n",
      "['Sketch - Draw & Paint', 'ART_AND_DESIGN', '4.5', '215644', '25M', '50,000,000+', 'Free', '0', 'Teen', 'Art & Design', 'June 8, 2018', 'Varies with device', '4.2 and up']\n",
      "\n",
      "\n",
      "['Pixel Draw - Number Art Coloring Book', 'ART_AND_DESIGN', '4.3', '967', '2.8M', '100,000+', 'Free', '0', 'Everyone', 'Art & Design;Creativity', 'June 20, 2018', '1.1', '4.4 and up']\n",
      "\n",
      "\n"
     ]
    }
   ],
   "source": [
    "print('Google Plan Data Summary')\n",
    "print('Number of rows excl header: ', len(gp_apps_data[1:]))\n",
    "print('Number of columns: ', len(gp_apps_data[0]))\n",
    "print('\\n')\n",
    "explore_data(gp_apps_data, 0, 6)"
   ]
  },
  {
   "cell_type": "code",
   "execution_count": 10,
   "metadata": {},
   "outputs": [
    {
     "name": "stdout",
     "output_type": "stream",
     "text": [
      "problem row reported as row 10472. Missing \"Category\"\n",
      "\n",
      "\n",
      "['Life Made WI-Fi Touchscreen Photo Frame', '1.9', '19', '3.0M', '1,000+', 'Free', '0', 'Everyone', '', 'February 11, 2018', '1.0.19', '4.0 and up']\n",
      "\n",
      "\n",
      "5 rows around 10472\n",
      "\n",
      "\n",
      "['TownWiFi | Wi-Fi Everywhere', 'COMMUNICATION', '3.9', '2372', '58M', '500,000+', 'Free', '0', 'Everyone', 'Communication', 'August 2, 2018', '4.2.1', '4.2 and up']\n",
      "\n",
      "\n",
      "['Jazz Wi-Fi', 'COMMUNICATION', '3.4', '49', '4.0M', '10,000+', 'Free', '0', 'Everyone', 'Communication', 'February 10, 2017', '0.1', '2.3 and up']\n",
      "\n",
      "\n",
      "['Xposed Wi-Fi-Pwd', 'PERSONALIZATION', '3.5', '1042', '404k', '100,000+', 'Free', '0', 'Everyone', 'Personalization', 'August 5, 2014', '3.0.0', '4.0.3 and up']\n",
      "\n",
      "\n",
      "['Life Made WI-Fi Touchscreen Photo Frame', '1.9', '19', '3.0M', '1,000+', 'Free', '0', 'Everyone', '', 'February 11, 2018', '1.0.19', '4.0 and up']\n",
      "\n",
      "\n",
      "['osmino Wi-Fi: free WiFi', 'TOOLS', '4.2', '134203', '4.1M', '10,000,000+', 'Free', '0', 'Everyone', 'Tools', 'August 7, 2018', '6.06.14', '4.4 and up']\n",
      "\n",
      "\n",
      "['Sat-Fi Voice', 'COMMUNICATION', '3.4', '37', '14M', '1,000+', 'Free', '0', 'Everyone', 'Communication', 'November 21, 2014', '2.2.1.5', '2.2 and up']\n",
      "\n",
      "\n"
     ]
    }
   ],
   "source": [
    "print('problem row reported as row 10472. Missing \"Category\"')\n",
    "print('\\n')\n",
    "print(gp_apps_data[10473])\n",
    "\n",
    "print('\\n')\n",
    "\n",
    "print('5 rows around 10472')\n",
    "print('\\n')\n",
    "explore_data(gp_apps_data, 10470, 10476)"
   ]
  },
  {
   "cell_type": "code",
   "execution_count": 11,
   "metadata": {},
   "outputs": [],
   "source": [
    "# Delete row 10472 which is index 10473\n",
    "del gp_apps_data[10473]"
   ]
  },
  {
   "cell_type": "code",
   "execution_count": 12,
   "metadata": {},
   "outputs": [
    {
     "name": "stdout",
     "output_type": "stream",
     "text": [
      "5 rows around 10472\n",
      "\n",
      "\n",
      "['TownWiFi | Wi-Fi Everywhere', 'COMMUNICATION', '3.9', '2372', '58M', '500,000+', 'Free', '0', 'Everyone', 'Communication', 'August 2, 2018', '4.2.1', '4.2 and up']\n",
      "\n",
      "\n",
      "['Jazz Wi-Fi', 'COMMUNICATION', '3.4', '49', '4.0M', '10,000+', 'Free', '0', 'Everyone', 'Communication', 'February 10, 2017', '0.1', '2.3 and up']\n",
      "\n",
      "\n",
      "['Xposed Wi-Fi-Pwd', 'PERSONALIZATION', '3.5', '1042', '404k', '100,000+', 'Free', '0', 'Everyone', 'Personalization', 'August 5, 2014', '3.0.0', '4.0.3 and up']\n",
      "\n",
      "\n",
      "['osmino Wi-Fi: free WiFi', 'TOOLS', '4.2', '134203', '4.1M', '10,000,000+', 'Free', '0', 'Everyone', 'Tools', 'August 7, 2018', '6.06.14', '4.4 and up']\n",
      "\n",
      "\n",
      "['Sat-Fi Voice', 'COMMUNICATION', '3.4', '37', '14M', '1,000+', 'Free', '0', 'Everyone', 'Communication', 'November 21, 2014', '2.2.1.5', '2.2 and up']\n",
      "\n",
      "\n",
      "['Wi-Fi Visualizer', 'TOOLS', '3.9', '132', '2.6M', '50,000+', 'Free', '0', 'Everyone', 'Tools', 'May 17, 2017', '0.0.9', '2.3 and up']\n",
      "\n",
      "\n"
     ]
    }
   ],
   "source": [
    "print('5 rows around 10472')\n",
    "print('\\n')\n",
    "explore_data(gp_apps_data, 10470, 10476)"
   ]
  },
  {
   "cell_type": "markdown",
   "metadata": {},
   "source": [
    "## Duplicate apps in gp data"
   ]
  },
  {
   "cell_type": "code",
   "execution_count": 15,
   "metadata": {},
   "outputs": [
    {
     "name": "stdout",
     "output_type": "stream",
     "text": [
      "['Instagram', 'SOCIAL', '4.5', '66577313', 'Varies with device', '1,000,000,000+', 'Free', '0', 'Teen', 'Social', 'July 31, 2018', 'Varies with device', 'Varies with device']\n",
      "['Instagram', 'SOCIAL', '4.5', '66577446', 'Varies with device', '1,000,000,000+', 'Free', '0', 'Teen', 'Social', 'July 31, 2018', 'Varies with device', 'Varies with device']\n",
      "['Instagram', 'SOCIAL', '4.5', '66577313', 'Varies with device', '1,000,000,000+', 'Free', '0', 'Teen', 'Social', 'July 31, 2018', 'Varies with device', 'Varies with device']\n",
      "['Instagram', 'SOCIAL', '4.5', '66509917', 'Varies with device', '1,000,000,000+', 'Free', '0', 'Teen', 'Social', 'July 31, 2018', 'Varies with device', 'Varies with device']\n"
     ]
    }
   ],
   "source": [
    "#Check for duplicate apps in the gp data. Based on comments on data there appears to be a number of duplicates\n",
    "\n",
    "for row in gp_apps_data:\n",
    "    name = row[0]\n",
    "    if name == 'Instagram':\n",
    "        print(row)"
   ]
  },
  {
   "cell_type": "code",
   "execution_count": 14,
   "metadata": {},
   "outputs": [
    {
     "name": "stdout",
     "output_type": "stream",
     "text": [
      "Number of duplicate apps:  1181\n",
      "Number of unique apps:  9660\n",
      "\n",
      "\n",
      "Examples of duplicates: ['Quick PDF Scanner + OCR FREE', 'Box', 'Google My Business', 'ZOOM Cloud Meetings', 'join.me - Simple Meetings', 'Box', 'Zenefits', 'Google Ads', 'Google My Business', 'Slack', 'FreshBooks Classic', 'Insightly CRM', 'QuickBooks Accounting: Invoicing & Expenses', 'HipChat - Chat Built for Teams', 'Xero Accounting Software']\n"
     ]
    }
   ],
   "source": [
    "#Identify all duplicates in gp data\n",
    "\n",
    "gp_dup_apps = []\n",
    "gp_unique_apps = []\n",
    "\n",
    "for row in gp_apps_data:\n",
    "    name = row[0]\n",
    "    \n",
    "    if name in gp_unique_apps:\n",
    "        gp_dup_apps.append(name)\n",
    "    else:\n",
    "        gp_unique_apps.append(name)\n",
    "        \n",
    "print('Number of duplicate apps: ', len(gp_dup_apps))\n",
    "print('Number of unique apps: ', len(gp_unique_apps))\n",
    "print('\\n')\n",
    "print('Examples of duplicates:', gp_dup_apps[:15])"
   ]
  },
  {
   "cell_type": "markdown",
   "metadata": {},
   "source": [
    "### Removing duplicate apps in gp data\n",
    "There are 1181 duplicate apps in the gp data.\n",
    "Using the Instagram example above, we can determine that the apps data must have been taken at different points in time based on the change in the number of reviews between rows (position 3). We will use this data point to remove the duplicate rows, leaving the one with the highest review count."
   ]
  },
  {
   "cell_type": "code",
   "execution_count": 22,
   "metadata": {},
   "outputs": [
    {
     "data": {
      "text/plain": [
       "9659"
      ]
     },
     "execution_count": 22,
     "metadata": {},
     "output_type": "execute_result"
    }
   ],
   "source": [
    "# Target length for gp data after dups removed\n",
    "len(gp_apps_data[1:]) - 1181"
   ]
  },
  {
   "cell_type": "code",
   "execution_count": 21,
   "metadata": {
    "scrolled": false
   },
   "outputs": [
    {
     "name": "stdout",
     "output_type": "stream",
     "text": [
      "66577446.0\n",
      "49.0\n"
     ]
    }
   ],
   "source": [
    "#created a dictionary of each app in the gp dataset with its highest rating\n",
    "gp_reviews_max = {}\n",
    "\n",
    "for row in gp_apps_data[1:]:\n",
    "    name = row[0]\n",
    "    n_reviews = float(row[3])\n",
    "    \n",
    "    if name in gp_reviews_max and gp_reviews_max[name] < n_reviews:\n",
    "        gp_reviews_max[name] = n_reviews\n",
    "    \n",
    "    if name not in gp_reviews_max:\n",
    "        gp_reviews_max[name] = n_reviews\n",
    "        \n",
    "print(gp_reviews_max['Instagram'])\n",
    "print(gp_reviews_max['Jazz Wi-Fi'])"
   ]
  },
  {
   "cell_type": "code",
   "execution_count": 25,
   "metadata": {},
   "outputs": [
    {
     "name": "stdout",
     "output_type": "stream",
     "text": [
      "gp_clean number of rows:  9659 \n",
      "\n",
      "['Photo Editor & Candy Camera & Grid & ScrapBook', 'ART_AND_DESIGN', '4.1', '159', '19M', '10,000+', 'Free', '0', 'Everyone', 'Art & Design', 'January 7, 2018', '1.0.0', '4.0.3 and up']\n",
      "\n",
      "\n",
      "['U Launcher Lite – FREE Live Cool Themes, Hide Apps', 'ART_AND_DESIGN', '4.7', '87510', '8.7M', '5,000,000+', 'Free', '0', 'Everyone', 'Art & Design', 'August 1, 2018', '1.2.4', '4.0.3 and up']\n",
      "\n",
      "\n",
      "['Sketch - Draw & Paint', 'ART_AND_DESIGN', '4.5', '215644', '25M', '50,000,000+', 'Free', '0', 'Teen', 'Art & Design', 'June 8, 2018', 'Varies with device', '4.2 and up']\n",
      "\n",
      "\n",
      "['Pixel Draw - Number Art Coloring Book', 'ART_AND_DESIGN', '4.3', '967', '2.8M', '100,000+', 'Free', '0', 'Everyone', 'Art & Design;Creativity', 'June 20, 2018', '1.1', '4.4 and up']\n",
      "\n",
      "\n",
      "['Paper flowers instructions', 'ART_AND_DESIGN', '4.4', '167', '5.6M', '50,000+', 'Free', '0', 'Everyone', 'Art & Design', 'March 26, 2017', '1.0', '2.3 and up']\n",
      "\n",
      "\n",
      "['Smoke Effect Photo Maker - Smoke Editor', 'ART_AND_DESIGN', '3.8', '178', '19M', '50,000+', 'Free', '0', 'Everyone', 'Art & Design', 'April 26, 2018', '1.1', '4.0.3 and up']\n",
      "\n",
      "\n"
     ]
    }
   ],
   "source": [
    "#use the dictionary to identify the rows with the highest rating and add those to a new list of lists called \"gp_clean\"\n",
    "#we use two lists (clean and already added) because some apps may have the same number of reviews across dup rows.\n",
    "#this second list protects us against this and ensures no duplicates in the final 'clean' list\n",
    "\n",
    "gp_clean = []\n",
    "gp_already_added = []\n",
    "\n",
    "for row in gp_apps_data[1:]:\n",
    "    name = row[0]\n",
    "    n_reviews = float(row[3])\n",
    "    \n",
    "    if n_reviews == gp_reviews_max[name] and name not in gp_already_added:\n",
    "        gp_clean.append(row)\n",
    "        gp_already_added.append(name)\n",
    "        \n",
    "print('gp_clean number of rows: ', len(gp_clean), '\\n')\n",
    "\n",
    "explore_data(gp_clean, 0, 6)"
   ]
  },
  {
   "cell_type": "markdown",
   "metadata": {},
   "source": [
    "expected length of 9659 matches actual lenght of 9659"
   ]
  },
  {
   "cell_type": "markdown",
   "metadata": {},
   "source": [
    "## Duplicate apps in iOS data"
   ]
  },
  {
   "cell_type": "code",
   "execution_count": 26,
   "metadata": {},
   "outputs": [
    {
     "name": "stdout",
     "output_type": "stream",
     "text": [
      "Number of duplicate apps:  0\n",
      "Number of unique apps:  7198\n"
     ]
    }
   ],
   "source": [
    "# identify duplicates in ios data\n",
    "\n",
    "ios_dup_apps = []\n",
    "ios_unique_apps = []\n",
    "\n",
    "for row in ios_apps_data:\n",
    "    iid = row[1]\n",
    "    \n",
    "    if iid in ios_unique_apps:\n",
    "        ios_dup_apps.append(name)\n",
    "    else:\n",
    "        ios_unique_apps.append(name)\n",
    "        \n",
    "print('Number of duplicate apps: ', len(ios_dup_apps))\n",
    "print('Number of unique apps: ', len(ios_unique_apps))\n"
   ]
  },
  {
   "cell_type": "markdown",
   "metadata": {},
   "source": [
    "No duplicate apps in the iOS data"
   ]
  },
  {
   "cell_type": "code",
   "execution_count": null,
   "metadata": {},
   "outputs": [],
   "source": []
  }
 ],
 "metadata": {
  "kernelspec": {
   "display_name": "Python 3",
   "language": "python",
   "name": "python3"
  },
  "language_info": {
   "codemirror_mode": {
    "name": "ipython",
    "version": 3
   },
   "file_extension": ".py",
   "mimetype": "text/x-python",
   "name": "python",
   "nbconvert_exporter": "python",
   "pygments_lexer": "ipython3",
   "version": "3.8.5"
  }
 },
 "nbformat": 4,
 "nbformat_minor": 4
}
