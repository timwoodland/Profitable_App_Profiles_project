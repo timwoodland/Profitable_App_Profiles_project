{
 "cells": [
  {
   "cell_type": "markdown",
   "metadata": {},
   "source": [
    "# Project Overview\n",
    "This is a guided project at the end of module 1. The purpose of this project is to apply the skills learnt in this module, including:\n",
    "- The basics of programming in Python (arithmetical operations, variables, common data types, etc.)\n",
    "- List and for loops\n",
    "- Conditional statements\n",
    "- Dictionaries and frequency tables\n",
    "- Functions\n",
    "- Jupyter Notebook\n",
    "\n",
    "### Project scenario\n",
    "For this project, we'll pretend we're working as data analysts for a company that builds Android and iOS mobile apps. We make our apps available on Google Play and the App Store.\n",
    "\n",
    "We only build apps that are free to download and install, and our main source of revenue consists of in-app ads. This means our revenue for any given app is mostly influenced by the number of users who use our app — the more users that see and engage with the ads, the better. Our goal for this project is to analyze data to help our developers understand what type of apps are likely to attract more users."
   ]
  },
  {
   "cell_type": "code",
   "execution_count": 1,
   "metadata": {},
   "outputs": [],
   "source": [
    "opened_file = open('Datasets/Apple iOS Store/AppleStore.csv')\n",
    "from csv import reader\n",
    "read_file = reader(opened_file)\n",
    "ios_apps_data = list(read_file)\n",
    "\n",
    "opened_file = open('Datasets/Google Play Store/googleplaystore.csv')\n",
    "from csv import reader\n",
    "read_file = reader(opened_file)\n",
    "gp_apps_data = list(read_file)\n",
    "\n",
    "def explore_data(dataset, start, end, rows_and_columns=False):\n",
    "    dataset_slice = dataset[start:end]    \n",
    "    for row in dataset_slice:\n",
    "        print(row)\n",
    "        print('\\n') # adds a new (empty) line after each row\n",
    "\n",
    "    if rows_and_columns:\n",
    "        print('Number of rows:', len(dataset))\n",
    "        print('Number of columns:', len(dataset[0]))"
   ]
  },
  {
   "cell_type": "markdown",
   "metadata": {},
   "source": [
    "## iOS Data Summary\n",
    "\n",
    "The iOS dataset has 7197 rows of data (excluding the header). There are 17 columns of data.\n",
    "\\\n",
    "Here is a [link](https://www.kaggle.com/ramamet4/app-store-apple-data-set-10k-apps) to the source data.\n",
    "\\\n",
    "The columns are:\n",
    "\n",
    "| 0   | 1      | 2          | 3               | 4             | 5            | 6                                    | 7                                        | 8                                           | 9                                               | 10                  | 11             | 12             | 13                            | 14                                       | 15                            | 16                                 |\n",
    "|:----|:-------|:-----------|:----------------|:--------------|:-------------|:-------------------------------------|:-----------------------------------------|:--------------------------------------------|:------------------------------------------------|:--------------------|:---------------|:---------------|:------------------------------|:-----------------------------------------|:------------------------------|:-----------------------------------|\n",
    "|     | id     | track_name | size_bytes      | currency      | price        | rating_count_tot                     | rating_count_ver                         | user_rating                                 | user_rating_ver                                 | ver                 | cont_rating    | prime_genre    | sup_devices.num               | ipadSc_urls.num                          | lang.num                      | vpp_lic                            |\n",
    "| Row | App ID | App Name   | Size (in Bytes) | Currency Type | Price amount | User Rating counts (for all version) | User Rating counts (for current version) | Average User Rating value (for all version) | Average User Rating value (for current version) | Latest version code | Content Rating | Primary GenreÊ | Number of supporting devicesÊ | Number of screenshots showed for display | Number of supported languages | Vpp Device Based Licensing Enabled |\n",
    "\n"
   ]
  },
  {
   "cell_type": "code",
   "execution_count": 2,
   "metadata": {
    "scrolled": false
   },
   "outputs": [
    {
     "name": "stdout",
     "output_type": "stream",
     "text": [
      "iOS Data Summary\n",
      "Number of rows excl header:  7197\n",
      "Number of columns:  17\n",
      "\n",
      "\n",
      "['', 'id', 'track_name', 'size_bytes', 'currency', 'price', 'rating_count_tot', 'rating_count_ver', 'user_rating', 'user_rating_ver', 'ver', 'cont_rating', 'prime_genre', 'sup_devices.num', 'ipadSc_urls.num', 'lang.num', 'vpp_lic']\n",
      "\n",
      "\n",
      "['1', '281656475', 'PAC-MAN Premium', '100788224', 'USD', '3.99', '21292', '26', '4', '4.5', '6.3.5', '4+', 'Games', '38', '5', '10', '1']\n",
      "\n",
      "\n",
      "['2', '281796108', 'Evernote - stay organized', '158578688', 'USD', '0', '161065', '26', '4', '3.5', '8.2.2', '4+', 'Productivity', '37', '5', '23', '1']\n",
      "\n",
      "\n",
      "['3', '281940292', 'WeatherBug - Local Weather, Radar, Maps, Alerts', '100524032', 'USD', '0', '188583', '2822', '3.5', '4.5', '5.0.0', '4+', 'Weather', '37', '5', '3', '1']\n",
      "\n",
      "\n",
      "['4', '282614216', 'eBay: Best App to Buy, Sell, Save! Online Shopping', '128512000', 'USD', '0', '262241', '649', '4', '4.5', '5.10.0', '12+', 'Shopping', '37', '5', '9', '1']\n",
      "\n",
      "\n",
      "['5', '282935706', 'Bible', '92774400', 'USD', '0', '985920', '5320', '4.5', '5', '7.5.1', '4+', 'Reference', '37', '5', '45', '1']\n",
      "\n",
      "\n"
     ]
    }
   ],
   "source": [
    "print('iOS Data Summary')\n",
    "print('Number of rows excl header: ', len(ios_apps_data[1:]))\n",
    "print('Number of columns: ', len(ios_apps_data[0]))\n",
    "print('\\n')\n",
    "explore_data(ios_apps_data, 0, 6)"
   ]
  },
  {
   "cell_type": "markdown",
   "metadata": {},
   "source": [
    "## Google App Store Data Summary\n",
    "The Google App Store data has 10841 rows (exluding the header) and has 13 columns.\n",
    "\\\n",
    "Here is a [link](https://www.kaggle.com/lava18/google-play-store-apps) to the source data\n",
    "\\\n",
    "The columns are:\n",
    "\n",
    "\n",
    "| 0        | 1                           | 2                              | 3                                  | 4               | 5                                             | 6            | 7                | 8                                                                | 9                                   | 10                                               | 11                                                 | 12                           |\n",
    "|:---------|:----------------------------|:-------------------------------|:-----------------------------------|:----------------|:----------------------------------------------|:-------------|:-----------------|:-----------------------------------------------------------------|:-------------------------------------|:-------------------------------------------------|:---------------------------------------------------|:-----------------------------|\n",
    "| App      | Category                    | Rating                         | Reviews                            | Size            | Installs                                      | Type         | Price            | Content Rating                                                   | Genres                               | Last Updated                                     | Current Ver                                        | Android Ver                  |\n",
    "| App name | Category the App belongs to | Overall user rating of the app | Number of user reviews for the app | Size of the app | Number of user downloads/installs for the app | Paid or Free | Price of the app | Age group the app is targeted at - Children / Mature 21+ / Adult | An app can belong to multiple genres | Date when the app was last updated on Play Store | Current version of the app available on Play Store | Min required Android version |\n"
   ]
  },
  {
   "cell_type": "code",
   "execution_count": 3,
   "metadata": {},
   "outputs": [
    {
     "name": "stdout",
     "output_type": "stream",
     "text": [
      "Google Plan Data Summary\n",
      "Number of rows excl header:  10841\n",
      "Number of columns:  13\n",
      "\n",
      "\n",
      "['App', 'Category', 'Rating', 'Reviews', 'Size', 'Installs', 'Type', 'Price', 'Content Rating', 'Genres', 'Last Updated', 'Current Ver', 'Android Ver']\n",
      "\n",
      "\n",
      "['Photo Editor & Candy Camera & Grid & ScrapBook', 'ART_AND_DESIGN', '4.1', '159', '19M', '10,000+', 'Free', '0', 'Everyone', 'Art & Design', 'January 7, 2018', '1.0.0', '4.0.3 and up']\n",
      "\n",
      "\n",
      "['Coloring book moana', 'ART_AND_DESIGN', '3.9', '967', '14M', '500,000+', 'Free', '0', 'Everyone', 'Art & Design;Pretend Play', 'January 15, 2018', '2.0.0', '4.0.3 and up']\n",
      "\n",
      "\n",
      "['U Launcher Lite – FREE Live Cool Themes, Hide Apps', 'ART_AND_DESIGN', '4.7', '87510', '8.7M', '5,000,000+', 'Free', '0', 'Everyone', 'Art & Design', 'August 1, 2018', '1.2.4', '4.0.3 and up']\n",
      "\n",
      "\n",
      "['Sketch - Draw & Paint', 'ART_AND_DESIGN', '4.5', '215644', '25M', '50,000,000+', 'Free', '0', 'Teen', 'Art & Design', 'June 8, 2018', 'Varies with device', '4.2 and up']\n",
      "\n",
      "\n",
      "['Pixel Draw - Number Art Coloring Book', 'ART_AND_DESIGN', '4.3', '967', '2.8M', '100,000+', 'Free', '0', 'Everyone', 'Art & Design;Creativity', 'June 20, 2018', '1.1', '4.4 and up']\n",
      "\n",
      "\n"
     ]
    }
   ],
   "source": [
    "print('Google Plan Data Summary')\n",
    "print('Number of rows excl header: ', len(gp_apps_data[1:]))\n",
    "print('Number of columns: ', len(gp_apps_data[0]))\n",
    "print('\\n')\n",
    "explore_data(gp_apps_data, 0, 6)"
   ]
  }
 ],
 "metadata": {
  "kernelspec": {
   "display_name": "Python 3",
   "language": "python",
   "name": "python3"
  },
  "language_info": {
   "codemirror_mode": {
    "name": "ipython",
    "version": 3
   },
   "file_extension": ".py",
   "mimetype": "text/x-python",
   "name": "python",
   "nbconvert_exporter": "python",
   "pygments_lexer": "ipython3",
   "version": "3.8.5"
  }
 },
 "nbformat": 4,
 "nbformat_minor": 4
}
