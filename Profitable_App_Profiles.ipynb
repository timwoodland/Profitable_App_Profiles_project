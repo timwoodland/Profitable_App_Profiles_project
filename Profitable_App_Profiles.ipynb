{
 "cells": [
  {
   "cell_type": "markdown",
   "metadata": {},
   "source": [
    "# Project Overview\n",
    "This is a guided project at the end of module 1. The purpose of this project is to apply the skills learnt in this module, including:\n",
    "- The basics of programming in Python (arithmetical operations, variables, common data types, etc.)\n",
    "- List and for loops\n",
    "- Conditional statements\n",
    "- Dictionaries and frequency tables\n",
    "- Functions\n",
    "- Jupyter Notebook\n",
    "\n",
    "### Project scenario\n",
    "For this project, we'll pretend we're working as data analysts for a company that builds Android and iOS mobile apps. We make our apps available on Google Play and the App Store.\n",
    "\n",
    "We only build apps that are free to download and install, and our main source of revenue consists of in-app ads. This means our revenue for any given app is mostly influenced by the number of users who use our app — the more users that see and engage with the ads, the better. Our goal for this project is to analyze data to help our developers understand what type of apps are likely to attract more users."
   ]
  },
  {
   "cell_type": "code",
   "execution_count": 1,
   "metadata": {},
   "outputs": [],
   "source": [
    "opened_file = open('Apple iOS Store/AppleStore.csv')\n",
    "from csv import reader\n",
    "read_file = reader(opened_file)\n",
    "ios_apps_data = list(read_file)\n",
    "\n",
    "opened_file = open('Google Play Store/googleplaystore.csv')\n",
    "from csv import reader\n",
    "read_file = reader(opened_file)\n",
    "gp_apps_data = list(read_file)\n",
    "\n",
    "def explore_data(dataset, start, end, rows_and_columns=False):\n",
    "    dataset_slice = dataset[start:end]    \n",
    "    for row in dataset_slice:\n",
    "        print(row)\n",
    "        print('\\n') # adds a new (empty) line after each row\n",
    "\n",
    "    if rows_and_columns:\n",
    "        print('Number of rows:', len(dataset))\n",
    "        print('Number of columns:', len(dataset[0]))"
   ]
  },
  {
   "cell_type": "markdown",
   "metadata": {},
   "source": [
    "## iOS Data Summary\n",
    "\n",
    "The iOS dataset has 7197 rows of data (excluding the header). There are 17 columns of data.\n",
    "\\\n",
    "Here is a [link](https://www.kaggle.com/ramamet4/app-store-apple-data-set-10k-apps) to the source data.\n",
    "\\\n",
    "The columns are:\n",
    "\n",
    "| 0   | 1      | 2          | 3               | 4             | 5            | 6                                    | 7                                        | 8                                           | 9                                               | 10                  | 11             | 12             | 13                            | 14                                       | 15                            | 16                                 |\n",
    "|:----|:-------|:-----------|:----------------|:--------------|:-------------|:-------------------------------------|:-----------------------------------------|:--------------------------------------------|:------------------------------------------------|:--------------------|:---------------|:---------------|:------------------------------|:-----------------------------------------|:------------------------------|:-----------------------------------|\n",
    "|     | id     | track_name | size_bytes      | currency      | price        | rating_count_tot                     | rating_count_ver                         | user_rating                                 | user_rating_ver                                 | ver                 | cont_rating    | prime_genre    | sup_devices.num               | ipadSc_urls.num                          | lang.num                      | vpp_lic                            |\n",
    "| Row | App ID | App Name   | Size (in Bytes) | Currency Type | Price amount | User Rating counts (for all version) | User Rating counts (for current version) | Average User Rating value (for all version) | Average User Rating value (for current version) | Latest version code | Content Rating | Primary GenreÊ | Number of supporting devicesÊ | Number of screenshots showed for display | Number of supported languages | Vpp Device Based Licensing Enabled |\n",
    "\n"
   ]
  },
  {
   "cell_type": "code",
   "execution_count": 2,
   "metadata": {
    "scrolled": false
   },
   "outputs": [
    {
     "name": "stdout",
     "output_type": "stream",
     "text": [
      "iOS Data Summary\n",
      "Number of rows excl header:  7197\n",
      "Number of columns:  17\n",
      "\n",
      "\n",
      "['', 'id', 'track_name', 'size_bytes', 'currency', 'price', 'rating_count_tot', 'rating_count_ver', 'user_rating', 'user_rating_ver', 'ver', 'cont_rating', 'prime_genre', 'sup_devices.num', 'ipadSc_urls.num', 'lang.num', 'vpp_lic']\n",
      "\n",
      "\n",
      "['1', '281656475', 'PAC-MAN Premium', '100788224', 'USD', '3.99', '21292', '26', '4', '4.5', '6.3.5', '4+', 'Games', '38', '5', '10', '1']\n",
      "\n",
      "\n",
      "['2', '281796108', 'Evernote - stay organized', '158578688', 'USD', '0', '161065', '26', '4', '3.5', '8.2.2', '4+', 'Productivity', '37', '5', '23', '1']\n",
      "\n",
      "\n",
      "['3', '281940292', 'WeatherBug - Local Weather, Radar, Maps, Alerts', '100524032', 'USD', '0', '188583', '2822', '3.5', '4.5', '5.0.0', '4+', 'Weather', '37', '5', '3', '1']\n",
      "\n",
      "\n",
      "['4', '282614216', 'eBay: Best App to Buy, Sell, Save! Online Shopping', '128512000', 'USD', '0', '262241', '649', '4', '4.5', '5.10.0', '12+', 'Shopping', '37', '5', '9', '1']\n",
      "\n",
      "\n",
      "['5', '282935706', 'Bible', '92774400', 'USD', '0', '985920', '5320', '4.5', '5', '7.5.1', '4+', 'Reference', '37', '5', '45', '1']\n",
      "\n",
      "\n"
     ]
    }
   ],
   "source": [
    "print('iOS Data Summary')\n",
    "print('Number of rows excl header: ', len(ios_apps_data[1:]))\n",
    "print('Number of columns: ', len(ios_apps_data[0]))\n",
    "print('\\n')\n",
    "explore_data(ios_apps_data, 0, 6)"
   ]
  },
  {
   "cell_type": "markdown",
   "metadata": {},
   "source": [
    "## Google App Store Data Summary\n",
    "The Google App Store data has 10841 rows (exluding the header) and has 13 columns.\n",
    "\\\n",
    "Here is a [link](https://www.kaggle.com/lava18/google-play-store-apps) to the source data\n",
    "\\\n",
    "The columns are:\n",
    "\n",
    "\n",
    "| 0        | 1                           | 2                              | 3                                  | 4               | 5                                             | 6            | 7                | 8                                                                | 9                                   | 10                                               | 11                                                 | 12                           |\n",
    "|:---------|:----------------------------|:-------------------------------|:-----------------------------------|:----------------|:----------------------------------------------|:-------------|:-----------------|:-----------------------------------------------------------------|:-------------------------------------|:-------------------------------------------------|:---------------------------------------------------|:-----------------------------|\n",
    "| App      | Category                    | Rating                         | Reviews                            | Size            | Installs                                      | Type         | Price            | Content Rating                                                   | Genres                               | Last Updated                                     | Current Ver                                        | Android Ver                  |\n",
    "| App name | Category the App belongs to | Overall user rating of the app | Number of user reviews for the app | Size of the app | Number of user downloads/installs for the app | Paid or Free | Price of the app | Age group the app is targeted at - Children / Mature 21+ / Adult | An app can belong to multiple genres | Date when the app was last updated on Play Store | Current version of the app available on Play Store | Min required Android version |\n"
   ]
  },
  {
   "cell_type": "code",
   "execution_count": 3,
   "metadata": {},
   "outputs": [
    {
     "name": "stdout",
     "output_type": "stream",
     "text": [
      "Google Plan Data Summary\n",
      "Number of rows excl header:  10841\n",
      "Number of columns:  13\n",
      "\n",
      "\n",
      "['App', 'Category', 'Rating', 'Reviews', 'Size', 'Installs', 'Type', 'Price', 'Content Rating', 'Genres', 'Last Updated', 'Current Ver', 'Android Ver']\n",
      "\n",
      "\n",
      "['Photo Editor & Candy Camera & Grid & ScrapBook', 'ART_AND_DESIGN', '4.1', '159', '19M', '10,000+', 'Free', '0', 'Everyone', 'Art & Design', 'January 7, 2018', '1.0.0', '4.0.3 and up']\n",
      "\n",
      "\n",
      "['Coloring book moana', 'ART_AND_DESIGN', '3.9', '967', '14M', '500,000+', 'Free', '0', 'Everyone', 'Art & Design;Pretend Play', 'January 15, 2018', '2.0.0', '4.0.3 and up']\n",
      "\n",
      "\n",
      "['U Launcher Lite – FREE Live Cool Themes, Hide Apps', 'ART_AND_DESIGN', '4.7', '87510', '8.7M', '5,000,000+', 'Free', '0', 'Everyone', 'Art & Design', 'August 1, 2018', '1.2.4', '4.0.3 and up']\n",
      "\n",
      "\n",
      "['Sketch - Draw & Paint', 'ART_AND_DESIGN', '4.5', '215644', '25M', '50,000,000+', 'Free', '0', 'Teen', 'Art & Design', 'June 8, 2018', 'Varies with device', '4.2 and up']\n",
      "\n",
      "\n",
      "['Pixel Draw - Number Art Coloring Book', 'ART_AND_DESIGN', '4.3', '967', '2.8M', '100,000+', 'Free', '0', 'Everyone', 'Art & Design;Creativity', 'June 20, 2018', '1.1', '4.4 and up']\n",
      "\n",
      "\n"
     ]
    }
   ],
   "source": [
    "print('Google Plan Data Summary')\n",
    "print('Number of rows excl header: ', len(gp_apps_data[1:]))\n",
    "print('Number of columns: ', len(gp_apps_data[0]))\n",
    "print('\\n')\n",
    "explore_data(gp_apps_data, 0, 6)"
   ]
  },
  {
   "cell_type": "markdown",
   "metadata": {},
   "source": [
    "## Data Cleaning\n",
    "---"
   ]
  },
  {
   "cell_type": "markdown",
   "metadata": {},
   "source": [
    "### Inaccudate data in GP dataset\n",
    "Per the notes with the data, there is an inaccurate row. We will drop this row."
   ]
  },
  {
   "cell_type": "code",
   "execution_count": 4,
   "metadata": {},
   "outputs": [
    {
     "name": "stdout",
     "output_type": "stream",
     "text": [
      "problem row reported as row 10472. Missing \"Category\"\n",
      "\n",
      "\n",
      "['Life Made WI-Fi Touchscreen Photo Frame', '1.9', '19', '3.0M', '1,000+', 'Free', '0', 'Everyone', '', 'February 11, 2018', '1.0.19', '4.0 and up']\n",
      "\n",
      "\n",
      "5 rows around 10472\n",
      "\n",
      "\n",
      "['TownWiFi | Wi-Fi Everywhere', 'COMMUNICATION', '3.9', '2372', '58M', '500,000+', 'Free', '0', 'Everyone', 'Communication', 'August 2, 2018', '4.2.1', '4.2 and up']\n",
      "\n",
      "\n",
      "['Jazz Wi-Fi', 'COMMUNICATION', '3.4', '49', '4.0M', '10,000+', 'Free', '0', 'Everyone', 'Communication', 'February 10, 2017', '0.1', '2.3 and up']\n",
      "\n",
      "\n",
      "['Xposed Wi-Fi-Pwd', 'PERSONALIZATION', '3.5', '1042', '404k', '100,000+', 'Free', '0', 'Everyone', 'Personalization', 'August 5, 2014', '3.0.0', '4.0.3 and up']\n",
      "\n",
      "\n",
      "['Life Made WI-Fi Touchscreen Photo Frame', '1.9', '19', '3.0M', '1,000+', 'Free', '0', 'Everyone', '', 'February 11, 2018', '1.0.19', '4.0 and up']\n",
      "\n",
      "\n",
      "['osmino Wi-Fi: free WiFi', 'TOOLS', '4.2', '134203', '4.1M', '10,000,000+', 'Free', '0', 'Everyone', 'Tools', 'August 7, 2018', '6.06.14', '4.4 and up']\n",
      "\n",
      "\n",
      "['Sat-Fi Voice', 'COMMUNICATION', '3.4', '37', '14M', '1,000+', 'Free', '0', 'Everyone', 'Communication', 'November 21, 2014', '2.2.1.5', '2.2 and up']\n",
      "\n",
      "\n"
     ]
    }
   ],
   "source": [
    "print('problem row reported as row 10472. Missing \"Category\"')\n",
    "print('\\n')\n",
    "print(gp_apps_data[10473])\n",
    "\n",
    "print('\\n')\n",
    "\n",
    "print('5 rows around 10472')\n",
    "print('\\n')\n",
    "explore_data(gp_apps_data, 10470, 10476)"
   ]
  },
  {
   "cell_type": "code",
   "execution_count": 5,
   "metadata": {},
   "outputs": [],
   "source": [
    "# Delete row 10472 which is index 10473\n",
    "del gp_apps_data[10473]"
   ]
  },
  {
   "cell_type": "code",
   "execution_count": 6,
   "metadata": {},
   "outputs": [
    {
     "name": "stdout",
     "output_type": "stream",
     "text": [
      "5 rows around 10472\n",
      "\n",
      "\n",
      "['TownWiFi | Wi-Fi Everywhere', 'COMMUNICATION', '3.9', '2372', '58M', '500,000+', 'Free', '0', 'Everyone', 'Communication', 'August 2, 2018', '4.2.1', '4.2 and up']\n",
      "\n",
      "\n",
      "['Jazz Wi-Fi', 'COMMUNICATION', '3.4', '49', '4.0M', '10,000+', 'Free', '0', 'Everyone', 'Communication', 'February 10, 2017', '0.1', '2.3 and up']\n",
      "\n",
      "\n",
      "['Xposed Wi-Fi-Pwd', 'PERSONALIZATION', '3.5', '1042', '404k', '100,000+', 'Free', '0', 'Everyone', 'Personalization', 'August 5, 2014', '3.0.0', '4.0.3 and up']\n",
      "\n",
      "\n",
      "['osmino Wi-Fi: free WiFi', 'TOOLS', '4.2', '134203', '4.1M', '10,000,000+', 'Free', '0', 'Everyone', 'Tools', 'August 7, 2018', '6.06.14', '4.4 and up']\n",
      "\n",
      "\n",
      "['Sat-Fi Voice', 'COMMUNICATION', '3.4', '37', '14M', '1,000+', 'Free', '0', 'Everyone', 'Communication', 'November 21, 2014', '2.2.1.5', '2.2 and up']\n",
      "\n",
      "\n",
      "['Wi-Fi Visualizer', 'TOOLS', '3.9', '132', '2.6M', '50,000+', 'Free', '0', 'Everyone', 'Tools', 'May 17, 2017', '0.0.9', '2.3 and up']\n",
      "\n",
      "\n"
     ]
    }
   ],
   "source": [
    "print('5 rows around 10472')\n",
    "print('\\n')\n",
    "explore_data(gp_apps_data, 10470, 10476)"
   ]
  },
  {
   "cell_type": "markdown",
   "metadata": {},
   "source": [
    "### Duplicate apps in gp data"
   ]
  },
  {
   "cell_type": "code",
   "execution_count": 7,
   "metadata": {},
   "outputs": [
    {
     "name": "stdout",
     "output_type": "stream",
     "text": [
      "['Instagram', 'SOCIAL', '4.5', '66577313', 'Varies with device', '1,000,000,000+', 'Free', '0', 'Teen', 'Social', 'July 31, 2018', 'Varies with device', 'Varies with device']\n",
      "['Instagram', 'SOCIAL', '4.5', '66577446', 'Varies with device', '1,000,000,000+', 'Free', '0', 'Teen', 'Social', 'July 31, 2018', 'Varies with device', 'Varies with device']\n",
      "['Instagram', 'SOCIAL', '4.5', '66577313', 'Varies with device', '1,000,000,000+', 'Free', '0', 'Teen', 'Social', 'July 31, 2018', 'Varies with device', 'Varies with device']\n",
      "['Instagram', 'SOCIAL', '4.5', '66509917', 'Varies with device', '1,000,000,000+', 'Free', '0', 'Teen', 'Social', 'July 31, 2018', 'Varies with device', 'Varies with device']\n"
     ]
    }
   ],
   "source": [
    "#Check for duplicate apps in the gp data. Based on comments on data there appears to be a number of duplicates\n",
    "\n",
    "for row in gp_apps_data:\n",
    "    name = row[0]\n",
    "    if name == 'Instagram':\n",
    "        print(row)"
   ]
  },
  {
   "cell_type": "code",
   "execution_count": 8,
   "metadata": {},
   "outputs": [
    {
     "name": "stdout",
     "output_type": "stream",
     "text": [
      "Number of duplicate apps:  1181\n",
      "Number of unique apps:  9660\n",
      "\n",
      "\n",
      "Examples of duplicates: ['Quick PDF Scanner + OCR FREE', 'Box', 'Google My Business', 'ZOOM Cloud Meetings', 'join.me - Simple Meetings', 'Box', 'Zenefits', 'Google Ads', 'Google My Business', 'Slack', 'FreshBooks Classic', 'Insightly CRM', 'QuickBooks Accounting: Invoicing & Expenses', 'HipChat - Chat Built for Teams', 'Xero Accounting Software']\n"
     ]
    }
   ],
   "source": [
    "#Identify all duplicates in gp data\n",
    "\n",
    "gp_dup_apps = []\n",
    "gp_unique_apps = []\n",
    "\n",
    "for row in gp_apps_data:\n",
    "    name = row[0]\n",
    "    \n",
    "    if name in gp_unique_apps:\n",
    "        gp_dup_apps.append(name)\n",
    "    else:\n",
    "        gp_unique_apps.append(name)\n",
    "        \n",
    "print('Number of duplicate apps: ', len(gp_dup_apps))\n",
    "print('Number of unique apps: ', len(gp_unique_apps))\n",
    "print('\\n')\n",
    "print('Examples of duplicates:', gp_dup_apps[:15])"
   ]
  },
  {
   "cell_type": "markdown",
   "metadata": {},
   "source": [
    "### Removing duplicate apps in gp data\n",
    "There are 1181 duplicate apps in the gp data.\n",
    "Using the Instagram example above, we can determine that the apps data must have been taken at different points in time based on the change in the number of reviews between rows (position 3). We will use this data point to remove the duplicate rows, leaving the one with the highest review count."
   ]
  },
  {
   "cell_type": "code",
   "execution_count": 9,
   "metadata": {},
   "outputs": [
    {
     "data": {
      "text/plain": [
       "9659"
      ]
     },
     "execution_count": 9,
     "metadata": {},
     "output_type": "execute_result"
    }
   ],
   "source": [
    "# Target length for gp data after dups removed\n",
    "len(gp_apps_data[1:]) - 1181"
   ]
  },
  {
   "cell_type": "code",
   "execution_count": 10,
   "metadata": {
    "scrolled": false
   },
   "outputs": [
    {
     "name": "stdout",
     "output_type": "stream",
     "text": [
      "66577446.0\n",
      "49.0\n"
     ]
    }
   ],
   "source": [
    "#created a dictionary of each app in the gp dataset with its highest rating\n",
    "gp_reviews_max = {}\n",
    "\n",
    "for row in gp_apps_data[1:]:\n",
    "    name = row[0]\n",
    "    n_reviews = float(row[3])\n",
    "    \n",
    "    if name in gp_reviews_max and gp_reviews_max[name] < n_reviews:\n",
    "        gp_reviews_max[name] = n_reviews\n",
    "    \n",
    "    if name not in gp_reviews_max:\n",
    "        gp_reviews_max[name] = n_reviews\n",
    "        \n",
    "print(gp_reviews_max['Instagram'])\n",
    "print(gp_reviews_max['Jazz Wi-Fi'])"
   ]
  },
  {
   "cell_type": "code",
   "execution_count": 11,
   "metadata": {},
   "outputs": [
    {
     "name": "stdout",
     "output_type": "stream",
     "text": [
      "gp_clean number of rows:  9659 \n",
      "\n",
      "['Photo Editor & Candy Camera & Grid & ScrapBook', 'ART_AND_DESIGN', '4.1', '159', '19M', '10,000+', 'Free', '0', 'Everyone', 'Art & Design', 'January 7, 2018', '1.0.0', '4.0.3 and up']\n",
      "\n",
      "\n",
      "['U Launcher Lite – FREE Live Cool Themes, Hide Apps', 'ART_AND_DESIGN', '4.7', '87510', '8.7M', '5,000,000+', 'Free', '0', 'Everyone', 'Art & Design', 'August 1, 2018', '1.2.4', '4.0.3 and up']\n",
      "\n",
      "\n",
      "['Sketch - Draw & Paint', 'ART_AND_DESIGN', '4.5', '215644', '25M', '50,000,000+', 'Free', '0', 'Teen', 'Art & Design', 'June 8, 2018', 'Varies with device', '4.2 and up']\n",
      "\n",
      "\n",
      "['Pixel Draw - Number Art Coloring Book', 'ART_AND_DESIGN', '4.3', '967', '2.8M', '100,000+', 'Free', '0', 'Everyone', 'Art & Design;Creativity', 'June 20, 2018', '1.1', '4.4 and up']\n",
      "\n",
      "\n",
      "['Paper flowers instructions', 'ART_AND_DESIGN', '4.4', '167', '5.6M', '50,000+', 'Free', '0', 'Everyone', 'Art & Design', 'March 26, 2017', '1.0', '2.3 and up']\n",
      "\n",
      "\n",
      "['Smoke Effect Photo Maker - Smoke Editor', 'ART_AND_DESIGN', '3.8', '178', '19M', '50,000+', 'Free', '0', 'Everyone', 'Art & Design', 'April 26, 2018', '1.1', '4.0.3 and up']\n",
      "\n",
      "\n"
     ]
    }
   ],
   "source": [
    "#use the dictionary to identify the rows with the highest rating and add those to a new list of lists called \"gp_clean\"\n",
    "#we use two lists (clean and already added) because some apps may have the same number of reviews across dup rows.\n",
    "#this second list protects us against this and ensures no duplicates in the final 'clean' list\n",
    "\n",
    "gp_clean = []\n",
    "gp_already_added = []\n",
    "\n",
    "for row in gp_apps_data[1:]:\n",
    "    name = row[0]\n",
    "    n_reviews = float(row[3])\n",
    "    \n",
    "    if n_reviews == gp_reviews_max[name] and name not in gp_already_added:\n",
    "        gp_clean.append(row)\n",
    "        gp_already_added.append(name)\n",
    "        \n",
    "print('gp_clean number of rows: ', len(gp_clean), '\\n')\n",
    "\n",
    "explore_data(gp_clean, 0, 6)"
   ]
  },
  {
   "cell_type": "markdown",
   "metadata": {},
   "source": [
    "expected length of 9659 matches actual lenght of 9659"
   ]
  },
  {
   "cell_type": "markdown",
   "metadata": {},
   "source": [
    "### Duplicate apps in iOS data"
   ]
  },
  {
   "cell_type": "code",
   "execution_count": 12,
   "metadata": {},
   "outputs": [
    {
     "name": "stdout",
     "output_type": "stream",
     "text": [
      "Number of duplicate apps:  0\n",
      "Number of unique apps:  7198\n"
     ]
    }
   ],
   "source": [
    "# identify duplicates in ios data\n",
    "\n",
    "ios_dup_apps = []\n",
    "ios_unique_apps = []\n",
    "\n",
    "for row in ios_apps_data:\n",
    "    iid = row[1]\n",
    "    \n",
    "    if iid in ios_unique_apps:\n",
    "        ios_dup_apps.append(name)\n",
    "    else:\n",
    "        ios_unique_apps.append(name)\n",
    "        \n",
    "print('Number of duplicate apps: ', len(ios_dup_apps))\n",
    "print('Number of unique apps: ', len(ios_unique_apps))\n"
   ]
  },
  {
   "cell_type": "markdown",
   "metadata": {},
   "source": [
    "No duplicate apps in the iOS data"
   ]
  },
  {
   "cell_type": "code",
   "execution_count": 13,
   "metadata": {},
   "outputs": [
    {
     "data": {
      "text/plain": [
       "87"
      ]
     },
     "execution_count": 13,
     "metadata": {},
     "output_type": "execute_result"
    }
   ],
   "source": [
    "row2 = ios_apps_data[3]\n",
    "name = row2[2]\n",
    "char = name[0]\n",
    "ord(char)\n"
   ]
  },
  {
   "cell_type": "markdown",
   "metadata": {},
   "source": [
    "### Create a list of iOS apps with english-only names\n",
    "Search through app names and where an app has 3 or more characters with ASCII value greater than 127, add this app to the list `ios_non_eng_apps`\n",
    "Use the `ios_non_eng_apps` list to create a list of iOS apps with english-only names"
   ]
  },
  {
   "cell_type": "code",
   "execution_count": 14,
   "metadata": {
    "scrolled": true
   },
   "outputs": [
    {
     "name": "stdout",
     "output_type": "stream",
     "text": [
      "number of non-english apps:  1014\n",
      "target number for english apps only list:  6183\n",
      "['新浪新闻-阅读最新时事热门头条资讯视频', '同花顺-炒股、股票', '央视影音-海量央视内容高清直播', '优酷视频', 'クックパッド - No.1料理レシピ検索アプリ', '大众点评-发现品质生活']\n",
      "\n",
      "\n",
      "number of english-only apps : 6183\n",
      "[['1', '281656475', 'PAC-MAN Premium', '100788224', 'USD', '3.99', '21292', '26', '4', '4.5', '6.3.5', '4+', 'Games', '38', '5', '10', '1'], ['2', '281796108', 'Evernote - stay organized', '158578688', 'USD', '0', '161065', '26', '4', '3.5', '8.2.2', '4+', 'Productivity', '37', '5', '23', '1'], ['3', '281940292', 'WeatherBug - Local Weather, Radar, Maps, Alerts', '100524032', 'USD', '0', '188583', '2822', '3.5', '4.5', '5.0.0', '4+', 'Weather', '37', '5', '3', '1'], ['4', '282614216', 'eBay: Best App to Buy, Sell, Save! Online Shopping', '128512000', 'USD', '0', '262241', '649', '4', '4.5', '5.10.0', '12+', 'Shopping', '37', '5', '9', '1'], ['5', '282935706', 'Bible', '92774400', 'USD', '0', '985920', '5320', '4.5', '5', '7.5.1', '4+', 'Reference', '37', '5', '45', '1'], ['6', '283619399', 'Shanghai Mahjong', '10485713', 'USD', '0.99', '8253', '5516', '4', '4', '1.8', '4+', 'Games', '47', '5', '1', '1']]\n"
     ]
    }
   ],
   "source": [
    "ios_non_eng_apps = []\n",
    "ios_apps_eng = []\n",
    "\n",
    "for row in ios_apps_data[1:]:\n",
    "    name = row[2]\n",
    "    char_count = 0\n",
    "    for character in name:\n",
    "        if ord(character) > 127 and char_count < 3:\n",
    "            char_count += 1\n",
    "        elif ord(character) > 127 and char_count == 3:\n",
    "            char_count += 1\n",
    "            ios_non_eng_apps.append(name)\n",
    "    if name not in ios_non_eng_apps:\n",
    "        ios_apps_eng.append(row)\n",
    "            \n",
    "print('number of non-english apps: ',len(ios_non_eng_apps))\n",
    "print('target number for english apps only list: ', len(ios_apps_data[1:]) - len(ios_non_eng_apps))\n",
    "print(ios_non_eng_apps[:6])\n",
    "print('\\n')\n",
    "print('number of english-only apps :', len(ios_apps_eng))\n",
    "print(ios_apps_eng[:6])"
   ]
  },
  {
   "cell_type": "markdown",
   "metadata": {},
   "source": [
    "expected lenght of list of english only apps matches final number"
   ]
  },
  {
   "cell_type": "markdown",
   "metadata": {},
   "source": [
    "### Create a list of Google Play apps with english-only names\n",
    "Search through app names and where an app has 3 or more characters with ASCII value greater than 127, add this app to the list `gp_non_eng_apps`\n",
    "Use the `gp_non_eng_apps` list to create a list of GP apps with english-only names"
   ]
  },
  {
   "cell_type": "code",
   "execution_count": 15,
   "metadata": {},
   "outputs": [
    {
     "name": "stdout",
     "output_type": "stream",
     "text": [
      "number of non-english apps:  45\n",
      "target number for english apps only list:  9614\n",
      "['Flame - درب عقلك يوميا', 'သိင်္ Astrology - Min Thein Kha BayDin', 'РИА Новости', 'صور حرف H', 'L.POINT - 엘포인트 [ 포인트, 멤버십, 적립, 사용, 모바일 카드, 쿠폰, 롯데]', 'RMEduS - 음성인식을 활용한 R 프로그래밍 실습 시스템']\n",
      "\n",
      "\n",
      "number of english-only apps : 9614\n",
      "[['Photo Editor & Candy Camera & Grid & ScrapBook', 'ART_AND_DESIGN', '4.1', '159', '19M', '10,000+', 'Free', '0', 'Everyone', 'Art & Design', 'January 7, 2018', '1.0.0', '4.0.3 and up'], ['U Launcher Lite – FREE Live Cool Themes, Hide Apps', 'ART_AND_DESIGN', '4.7', '87510', '8.7M', '5,000,000+', 'Free', '0', 'Everyone', 'Art & Design', 'August 1, 2018', '1.2.4', '4.0.3 and up'], ['Sketch - Draw & Paint', 'ART_AND_DESIGN', '4.5', '215644', '25M', '50,000,000+', 'Free', '0', 'Teen', 'Art & Design', 'June 8, 2018', 'Varies with device', '4.2 and up'], ['Pixel Draw - Number Art Coloring Book', 'ART_AND_DESIGN', '4.3', '967', '2.8M', '100,000+', 'Free', '0', 'Everyone', 'Art & Design;Creativity', 'June 20, 2018', '1.1', '4.4 and up'], ['Paper flowers instructions', 'ART_AND_DESIGN', '4.4', '167', '5.6M', '50,000+', 'Free', '0', 'Everyone', 'Art & Design', 'March 26, 2017', '1.0', '2.3 and up'], ['Smoke Effect Photo Maker - Smoke Editor', 'ART_AND_DESIGN', '3.8', '178', '19M', '50,000+', 'Free', '0', 'Everyone', 'Art & Design', 'April 26, 2018', '1.1', '4.0.3 and up']]\n"
     ]
    }
   ],
   "source": [
    "gp_non_eng_apps = []\n",
    "gp_clean_eng = []\n",
    "\n",
    "for row in gp_clean:\n",
    "    name = row[0]\n",
    "    char_count = 0\n",
    "    for character in name:\n",
    "        if ord(character) > 127 and char_count < 3:\n",
    "            char_count += 1\n",
    "        elif ord(character) > 127 and char_count == 3:\n",
    "            char_count += 1\n",
    "            gp_non_eng_apps.append(name)\n",
    "    if name not in gp_non_eng_apps:\n",
    "        gp_clean_eng.append(row)\n",
    "            \n",
    "print('number of non-english apps: ',len(gp_non_eng_apps))\n",
    "print('target number for english apps only list: ', len(gp_clean) - len(gp_non_eng_apps))\n",
    "print(gp_non_eng_apps[:6])\n",
    "print('\\n')\n",
    "print('number of english-only apps :', len(gp_clean_eng))\n",
    "print(gp_clean_eng[:6])"
   ]
  },
  {
   "cell_type": "markdown",
   "metadata": {},
   "source": [
    "expected lenght of list of english only apps matches final number"
   ]
  },
  {
   "cell_type": "markdown",
   "metadata": {},
   "source": [
    "### Create list of iOS apps that are free\n",
    "Use the price field (which is a string) and find those apps with a price string == `'0'`or `'0.0'` or `'0.00'`"
   ]
  },
  {
   "cell_type": "code",
   "execution_count": 16,
   "metadata": {},
   "outputs": [
    {
     "name": "stdout",
     "output_type": "stream",
     "text": [
      "number of free apps:  3222\n",
      "number of non-free apps:  2961\n",
      "[['2', '281796108', 'Evernote - stay organized', '158578688', 'USD', '0', '161065', '26', '4', '3.5', '8.2.2', '4+', 'Productivity', '37', '5', '23', '1'], ['3', '281940292', 'WeatherBug - Local Weather, Radar, Maps, Alerts', '100524032', 'USD', '0', '188583', '2822', '3.5', '4.5', '5.0.0', '4+', 'Weather', '37', '5', '3', '1'], ['4', '282614216', 'eBay: Best App to Buy, Sell, Save! Online Shopping', '128512000', 'USD', '0', '262241', '649', '4', '4.5', '5.10.0', '12+', 'Shopping', '37', '5', '9', '1'], ['5', '282935706', 'Bible', '92774400', 'USD', '0', '985920', '5320', '4.5', '5', '7.5.1', '4+', 'Reference', '37', '5', '45', '1'], ['7', '283646709', 'PayPal - Send and request money safely', '227795968', 'USD', '0', '119487', '879', '4', '4.5', '6.12.0', '4+', 'Finance', '37', '0', '19', '1'], ['8', '284035177', 'Pandora - Music & Radio', '130242560', 'USD', '0', '1126879', '3594', '4', '4.5', '8.4.1', '12+', 'Music', '37', '4', '1', '1']]\n"
     ]
    }
   ],
   "source": [
    "ios_apps_eng_free = []\n",
    "\n",
    "for row in ios_apps_eng:\n",
    "    price = row[5]\n",
    "    if price == '0' or price == '0.0' or price == '0.00':\n",
    "        ios_apps_eng_free.append(row)\n",
    "        \n",
    "print('number of free apps: ', len(ios_apps_eng_free))\n",
    "print('number of non-free apps: ', len(ios_apps_eng) - len(ios_apps_eng_free))\n",
    "print(ios_apps_eng_free[:6])"
   ]
  },
  {
   "cell_type": "markdown",
   "metadata": {},
   "source": [
    "### Create a list of Google Play apps that are free\n",
    "The GP app dataset has a field that indicates where an app is free or paid.\n",
    "We will use this field to identiy those apps that are free"
   ]
  },
  {
   "cell_type": "code",
   "execution_count": 17,
   "metadata": {
    "scrolled": true
   },
   "outputs": [
    {
     "name": "stdout",
     "output_type": "stream",
     "text": [
      "number of free apps:  8863\n",
      "number of non-free apps:  751\n",
      "[['Photo Editor & Candy Camera & Grid & ScrapBook', 'ART_AND_DESIGN', '4.1', '159', '19M', '10,000+', 'Free', '0', 'Everyone', 'Art & Design', 'January 7, 2018', '1.0.0', '4.0.3 and up'], ['U Launcher Lite – FREE Live Cool Themes, Hide Apps', 'ART_AND_DESIGN', '4.7', '87510', '8.7M', '5,000,000+', 'Free', '0', 'Everyone', 'Art & Design', 'August 1, 2018', '1.2.4', '4.0.3 and up'], ['Sketch - Draw & Paint', 'ART_AND_DESIGN', '4.5', '215644', '25M', '50,000,000+', 'Free', '0', 'Teen', 'Art & Design', 'June 8, 2018', 'Varies with device', '4.2 and up'], ['Pixel Draw - Number Art Coloring Book', 'ART_AND_DESIGN', '4.3', '967', '2.8M', '100,000+', 'Free', '0', 'Everyone', 'Art & Design;Creativity', 'June 20, 2018', '1.1', '4.4 and up'], ['Paper flowers instructions', 'ART_AND_DESIGN', '4.4', '167', '5.6M', '50,000+', 'Free', '0', 'Everyone', 'Art & Design', 'March 26, 2017', '1.0', '2.3 and up'], ['Smoke Effect Photo Maker - Smoke Editor', 'ART_AND_DESIGN', '3.8', '178', '19M', '50,000+', 'Free', '0', 'Everyone', 'Art & Design', 'April 26, 2018', '1.1', '4.0.3 and up']]\n"
     ]
    }
   ],
   "source": [
    "gp_clean_eng_free = []\n",
    "\n",
    "for row in gp_clean_eng:\n",
    "    type = row[6]\n",
    "    if type.lower() == 'free':\n",
    "        gp_clean_eng_free.append(row)\n",
    "        \n",
    "print('number of free apps: ', len(gp_clean_eng_free))\n",
    "print('number of non-free apps: ', len(gp_clean_eng) - len(gp_clean_eng_free))\n",
    "print(gp_clean_eng_free[:6])"
   ]
  },
  {
   "cell_type": "markdown",
   "metadata": {},
   "source": [
    "### Final cleaned lists to use for analysis\n",
    "iOS data `ios_apps_eng_free`\n",
    "\n",
    "GP data `gp_clean_eng_free`\n",
    "\n",
    "Cleaning performed:\n",
    "- Inaccurate data removed (GP only)\n",
    "- Duplicates removed (GP only - none in iOS)\n",
    "- Removed apps with non-english names\n",
    "- Removed apps that are not free"
   ]
  },
  {
   "cell_type": "markdown",
   "metadata": {},
   "source": [
    "## Data analysis\n",
    "---"
   ]
  },
  {
   "cell_type": "markdown",
   "metadata": {},
   "source": [
    "### Analysis objective\n",
    "Our aim is to determine the kinds of apps that are likely to attract more users because our revenue is highly influenced by the number of people using our apps.\n",
    "\n",
    "To minimize risks and overhead, our validation strategy for an app idea is comprised of three steps:\n",
    "\n",
    "- Build a minimal Android version of the app, and add it to Google Play.\n",
    "- If the app has a good response from users, we develop it further.\n",
    "- If the app is profitable after six months, we build an iOS version of the app and add it to the App Store.\n",
    "\n",
    "Because our end goal is to add the app on both Google Play and the App Store, we need to find app profiles that are successful on both markets. For instance, a profile that works well for both markets might be a productivity app that makes use of gamification"
   ]
  },
  {
   "cell_type": "markdown",
   "metadata": {},
   "source": [
    "#### Step 1: Create functions \n",
    "Create two functions for:\n",
    "- a frequency table; and \n",
    "- a tuple to display the frequency table in highest to lowest order"
   ]
  },
  {
   "cell_type": "code",
   "execution_count": 26,
   "metadata": {},
   "outputs": [],
   "source": [
    "def freq_table(dataset, index):\n",
    "    table = {}\n",
    "    total = 0\n",
    "    \n",
    "    for row in dataset:\n",
    "        total += 1\n",
    "        key = row[index]\n",
    "        if key in table:\n",
    "            table[key] += 1\n",
    "        else: \n",
    "            table[key] = 1\n",
    "            \n",
    "    table_percentages = {}\n",
    "    \n",
    "    for key in table:\n",
    "        percentage = (table[key] / total) * 100\n",
    "        table_percentages[key] = percentage\n",
    "        \n",
    "    return table_percentages\n",
    "    \n",
    "def display_table(dataset, index):\n",
    "    table = freq_table(dataset, index)\n",
    "    table_display = []\n",
    "    for key in table:\n",
    "        key_val_as_tuple = (table[key], key)\n",
    "        table_display.append(key_val_as_tuple)\n",
    "\n",
    "    table_sorted = sorted(table_display, reverse = True)\n",
    "    for entry in table_sorted:\n",
    "        print(entry[1], ':', entry[0])"
   ]
  },
  {
   "cell_type": "markdown",
   "metadata": {},
   "source": [
    "#### Step 2: Generate sorted frequency tables by Genre\n",
    "Generate sorted frequency tables for the following:\n",
    "- iOS `prime_genre` `[12]`\n",
    "- GP `Genre` `[9]`\n",
    "- GP `Category` `[1]`"
   ]
  },
  {
   "cell_type": "code",
   "execution_count": 29,
   "metadata": {
    "scrolled": false
   },
   "outputs": [
    {
     "name": "stdout",
     "output_type": "stream",
     "text": [
      "Games : 58.16263190564867\n",
      "Entertainment : 7.883302296710118\n",
      "Photo & Video : 4.9658597144630665\n",
      "Education : 3.662321539416512\n",
      "Social Networking : 3.2898820608317814\n",
      "Shopping : 2.60707635009311\n",
      "Utilities : 2.5139664804469275\n",
      "Sports : 2.1415270018621975\n",
      "Music : 2.0484171322160147\n",
      "Health & Fitness : 2.0173805090006205\n",
      "Productivity : 1.7380509000620732\n",
      "Lifestyle : 1.5828677839851024\n",
      "News : 1.3345747982619491\n",
      "Travel : 1.2414649286157666\n",
      "Finance : 1.1173184357541899\n",
      "Weather : 0.8690254500310366\n",
      "Food & Drink : 0.8069522036002483\n",
      "Reference : 0.5586592178770949\n",
      "Business : 0.5276225946617008\n",
      "Book : 0.4345127250155183\n",
      "Navigation : 0.186219739292365\n",
      "Medical : 0.186219739292365\n",
      "Catalogs : 0.12414649286157665\n"
     ]
    }
   ],
   "source": [
    "display_table(ios_apps_eng_free, 12)"
   ]
  },
  {
   "cell_type": "code",
   "execution_count": 30,
   "metadata": {},
   "outputs": [
    {
     "name": "stdout",
     "output_type": "stream",
     "text": [
      "Tools : 8.450863138892023\n",
      "Entertainment : 6.070179397495204\n",
      "Education : 5.348076272142616\n",
      "Business : 4.592124562789123\n",
      "Productivity : 3.8925871601038025\n",
      "Lifestyle : 3.8925871601038025\n",
      "Finance : 3.7007785174320205\n",
      "Medical : 3.5315355974275078\n",
      "Sports : 3.463838429425702\n",
      "Personalization : 3.317161232088458\n",
      "Communication : 3.2381812027530184\n",
      "Action : 3.102786866749408\n",
      "Health & Fitness : 3.0802211440821394\n",
      "Photography : 2.944826808078529\n",
      "News & Magazines : 2.798149610741284\n",
      "Social : 2.6627552747376737\n",
      "Travel & Local : 2.324269434728647\n",
      "Shopping : 2.245289405393208\n",
      "Books & Reference : 2.1437436533904997\n",
      "Simulation : 2.042197901387792\n",
      "Dating : 1.8616721200496444\n",
      "Arcade : 1.8503892587160102\n",
      "Video Players & Editors : 1.771409229380571\n",
      "Casual : 1.7601263680469368\n",
      "Maps & Navigation : 1.399074805370642\n",
      "Food & Drink : 1.241114746699763\n",
      "Puzzle : 1.128286133363421\n",
      "Racing : 0.9928917973598104\n",
      "Role Playing : 0.9364774906916393\n",
      "Libraries & Demo : 0.9364774906916393\n",
      "Auto & Vehicles : 0.9251946293580051\n",
      "Strategy : 0.9026289066907368\n",
      "House & Home : 0.8236488773552973\n",
      "Weather : 0.8010831546880289\n",
      "Events : 0.7108202640189552\n",
      "Adventure : 0.6769716800180525\n",
      "Comics : 0.6092745120162473\n",
      "Beauty : 0.5979916506826132\n",
      "Art & Design : 0.5979916506826132\n",
      "Parenting : 0.4964458986799052\n",
      "Card : 0.4513144533453684\n",
      "Casino : 0.42874873067809993\n",
      "Trivia : 0.4174658693444658\n",
      "Educational;Education : 0.3949001466771973\n",
      "Board : 0.38361728534356315\n",
      "Educational : 0.37233442400992894\n",
      "Education;Education : 0.33848584000902626\n",
      "Word : 0.25950581067358686\n",
      "Casual;Pretend Play : 0.2369400880063184\n",
      "Music : 0.20309150400541578\n",
      "Racing;Action & Adventure : 0.16924292000451313\n",
      "Puzzle;Brain Games : 0.16924292000451313\n",
      "Entertainment;Music & Video : 0.16924292000451313\n",
      "Casual;Brain Games : 0.1353943360036105\n",
      "Casual;Action & Adventure : 0.1353943360036105\n",
      "Arcade;Action & Adventure : 0.1241114746699763\n",
      "Action;Action & Adventure : 0.10154575200270789\n",
      "Educational;Pretend Play : 0.09026289066907367\n",
      "Simulation;Action & Adventure : 0.07898002933543948\n",
      "Parenting;Education : 0.07898002933543948\n",
      "Entertainment;Brain Games : 0.07898002933543948\n",
      "Board;Brain Games : 0.07898002933543948\n",
      "Parenting;Music & Video : 0.06769716800180525\n",
      "Educational;Brain Games : 0.06769716800180525\n",
      "Casual;Creativity : 0.06769716800180525\n",
      "Art & Design;Creativity : 0.06769716800180525\n",
      "Education;Pretend Play : 0.05641430666817105\n",
      "Role Playing;Pretend Play : 0.045131445334536835\n",
      "Education;Creativity : 0.045131445334536835\n",
      "Role Playing;Action & Adventure : 0.033848584000902626\n",
      "Puzzle;Action & Adventure : 0.033848584000902626\n",
      "Entertainment;Creativity : 0.033848584000902626\n",
      "Entertainment;Action & Adventure : 0.033848584000902626\n",
      "Educational;Creativity : 0.033848584000902626\n",
      "Educational;Action & Adventure : 0.033848584000902626\n",
      "Education;Music & Video : 0.033848584000902626\n",
      "Education;Brain Games : 0.033848584000902626\n",
      "Education;Action & Adventure : 0.033848584000902626\n",
      "Adventure;Action & Adventure : 0.033848584000902626\n",
      "Video Players & Editors;Music & Video : 0.022565722667268417\n",
      "Sports;Action & Adventure : 0.022565722667268417\n",
      "Simulation;Pretend Play : 0.022565722667268417\n",
      "Puzzle;Creativity : 0.022565722667268417\n",
      "Music;Music & Video : 0.022565722667268417\n",
      "Entertainment;Pretend Play : 0.022565722667268417\n",
      "Casual;Education : 0.022565722667268417\n",
      "Board;Action & Adventure : 0.022565722667268417\n",
      "Video Players & Editors;Creativity : 0.011282861333634209\n",
      "Trivia;Education : 0.011282861333634209\n",
      "Travel & Local;Action & Adventure : 0.011282861333634209\n",
      "Tools;Education : 0.011282861333634209\n",
      "Strategy;Education : 0.011282861333634209\n",
      "Strategy;Creativity : 0.011282861333634209\n",
      "Strategy;Action & Adventure : 0.011282861333634209\n",
      "Simulation;Education : 0.011282861333634209\n",
      "Role Playing;Brain Games : 0.011282861333634209\n",
      "Racing;Pretend Play : 0.011282861333634209\n",
      "Puzzle;Education : 0.011282861333634209\n",
      "Parenting;Brain Games : 0.011282861333634209\n",
      "Music & Audio;Music & Video : 0.011282861333634209\n",
      "Lifestyle;Pretend Play : 0.011282861333634209\n",
      "Lifestyle;Education : 0.011282861333634209\n",
      "Health & Fitness;Education : 0.011282861333634209\n",
      "Health & Fitness;Action & Adventure : 0.011282861333634209\n",
      "Entertainment;Education : 0.011282861333634209\n",
      "Communication;Creativity : 0.011282861333634209\n",
      "Comics;Creativity : 0.011282861333634209\n",
      "Casual;Music & Video : 0.011282861333634209\n",
      "Card;Action & Adventure : 0.011282861333634209\n",
      "Books & Reference;Education : 0.011282861333634209\n",
      "Art & Design;Pretend Play : 0.011282861333634209\n",
      "Art & Design;Action & Adventure : 0.011282861333634209\n",
      "Arcade;Pretend Play : 0.011282861333634209\n",
      "Adventure;Education : 0.011282861333634209\n"
     ]
    }
   ],
   "source": [
    "display_table(gp_clean_eng_free, 9)"
   ]
  },
  {
   "cell_type": "code",
   "execution_count": 31,
   "metadata": {},
   "outputs": [
    {
     "name": "stdout",
     "output_type": "stream",
     "text": [
      "FAMILY : 18.898792733837304\n",
      "GAME : 9.725826469592688\n",
      "TOOLS : 8.462146000225657\n",
      "BUSINESS : 4.592124562789123\n",
      "LIFESTYLE : 3.9038700214374367\n",
      "PRODUCTIVITY : 3.8925871601038025\n",
      "FINANCE : 3.7007785174320205\n",
      "MEDICAL : 3.5315355974275078\n",
      "SPORTS : 3.396141261423897\n",
      "PERSONALIZATION : 3.317161232088458\n",
      "COMMUNICATION : 3.2381812027530184\n",
      "HEALTH_AND_FITNESS : 3.0802211440821394\n",
      "PHOTOGRAPHY : 2.944826808078529\n",
      "NEWS_AND_MAGAZINES : 2.798149610741284\n",
      "SOCIAL : 2.6627552747376737\n",
      "TRAVEL_AND_LOCAL : 2.335552296062281\n",
      "SHOPPING : 2.245289405393208\n",
      "BOOKS_AND_REFERENCE : 2.1437436533904997\n",
      "DATING : 1.8616721200496444\n",
      "VIDEO_PLAYERS : 1.7939749520478394\n",
      "MAPS_AND_NAVIGATION : 1.399074805370642\n",
      "FOOD_AND_DRINK : 1.241114746699763\n",
      "EDUCATION : 1.1621347173643235\n",
      "ENTERTAINMENT : 0.9590432133589079\n",
      "LIBRARIES_AND_DEMO : 0.9364774906916393\n",
      "AUTO_AND_VEHICLES : 0.9251946293580051\n",
      "HOUSE_AND_HOME : 0.8236488773552973\n",
      "WEATHER : 0.8010831546880289\n",
      "EVENTS : 0.7108202640189552\n",
      "PARENTING : 0.6544059573507841\n",
      "ART_AND_DESIGN : 0.6431230960171499\n",
      "COMICS : 0.6205573733498815\n",
      "BEAUTY : 0.5979916506826132\n"
     ]
    }
   ],
   "source": [
    "display_table(gp_clean_eng_free, 1)"
   ]
  },
  {
   "cell_type": "markdown",
   "metadata": {},
   "source": [
    "In the iOS data it is clear that Game are the most common app type. This also appears to be true for the GP data, as the Family category includes games for kids.\n",
    "\n",
    "Whilst the above frequency tables show the number of apps in each cateogry, they do not tell us how popular these apps are (i.e. how many installs they have). We can determine this easily for the GP data as there is a datapoint for Installs. For the iOS data we will derive it by using the number of user ratings (`rating_count_tot`) as a proxy"
   ]
  },
  {
   "cell_type": "markdown",
   "metadata": {},
   "source": [
    "#### Step 3: Generate popularity frequency table by genre\n",
    "For the GP data, we will use the `Installs` field\n",
    "\n",
    "For the iOS data, we will us the `rating_count_tot` as a proxy for popularity"
   ]
  },
  {
   "cell_type": "markdown",
   "metadata": {},
   "source": [
    "##### iOS Data"
   ]
  },
  {
   "cell_type": "code",
   "execution_count": 33,
   "metadata": {},
   "outputs": [
    {
     "name": "stdout",
     "output_type": "stream",
     "text": [
      "Productivity :  21028.410714285714\n",
      "Weather :  52279.892857142855\n",
      "Shopping :  26919.690476190477\n",
      "Reference :  74942.11111111111\n",
      "Finance :  31467.944444444445\n",
      "Music :  57326.530303030304\n",
      "Utilities :  18684.456790123455\n",
      "Travel :  28243.8\n",
      "Social Networking :  71548.34905660378\n",
      "Sports :  23008.898550724636\n",
      "Health & Fitness :  23298.015384615384\n",
      "Games :  22788.6696905016\n",
      "Food & Drink :  33333.92307692308\n",
      "News :  21248.023255813954\n",
      "Book :  39758.5\n",
      "Photo & Video :  28441.54375\n",
      "Entertainment :  14029.830708661417\n",
      "Business :  7491.117647058823\n",
      "Lifestyle :  16485.764705882353\n",
      "Education :  7003.983050847458\n",
      "Navigation :  86090.33333333333\n",
      "Medical :  612.0\n",
      "Catalogs :  4004.0\n"
     ]
    }
   ],
   "source": [
    "genres_ios = freq_table(ios_apps_eng_free, 12)\n",
    "\n",
    "for genre in genres_ios:\n",
    "    total = 0\n",
    "    genre_len = 0\n",
    "    \n",
    "    for app in ios_apps_eng_free:\n",
    "        app_genre = app[12]\n",
    "        if app_genre == genre:\n",
    "            total += float(app[6])\n",
    "            genre_len += 1\n",
    "            \n",
    "    avg_n_ratings = total / genre_len\n",
    "    \n",
    "    print(genre, ': ', avg_n_ratings)"
   ]
  },
  {
   "cell_type": "markdown",
   "metadata": {},
   "source": [
    "Below are the average number of ios ratings per app by genre sorted\n",
    "\n",
    "![Ratings](ios_average_n_ratings.jpg)\n",
    "\n",
    "As we can see, Navigation apps are at the top of the list, followed by Reference, Social Networking , Music and Weather"
   ]
  },
  {
   "cell_type": "code",
   "execution_count": 36,
   "metadata": {},
   "outputs": [
    {
     "name": "stdout",
     "output_type": "stream",
     "text": [
      "Waze - GPS Navigation, Maps & Real-time Traffic  :  345046\n",
      "Geocaching®  :  12811\n",
      "ImmobilienScout24: Real Estate Search in Germany  :  187\n",
      "Railway Route Search  :  5\n",
      "CoPilot GPS – Car Navigation & Offline Maps  :  3582\n",
      "Google Maps - Navigation & Transit  :  154911\n"
     ]
    }
   ],
   "source": [
    "for app in ios_apps_eng_free:\n",
    "    if app[12] == 'Navigation':\n",
    "        print(app[2], ' : ',app[6])"
   ]
  },
  {
   "cell_type": "code",
   "execution_count": 38,
   "metadata": {},
   "outputs": [
    {
     "name": "stdout",
     "output_type": "stream",
     "text": [
      "Bible  :  985920\n",
      "Dictionary.com Dictionary & Thesaurus  :  200047\n",
      "Dictionary.com Dictionary & Thesaurus for iPad  :  54175\n",
      "Muslim Pro: Ramadan 2017 Prayer Times, Azan, Quran  :  18418\n",
      "Merriam-Webster Dictionary  :  16849\n",
      "Google Translate  :  26786\n",
      "Night Sky  :  12122\n",
      "WWDC  :  762\n",
      "Jishokun-Japanese English Dictionary & Translator  :  0\n",
      "教えて!goo  :  0\n",
      "VPN Express  :  14\n",
      "New Furniture Mods - Pocket Wiki & Game Tools for Minecraft PC Edition  :  17588\n",
      "LUCKY BLOCK MOD ™ for Minecraft PC Edition - The Best Pocket Wiki & Mods Installer Tools  :  4693\n",
      "Guides for Pokémon GO - Pokemon GO News and Cheats  :  826\n",
      "Horror Maps for Minecraft PE - Download The Scariest Maps for Minecraft Pocket Edition (MCPE) Free  :  718\n",
      "City Maps for Minecraft PE - The Best Maps for Minecraft Pocket Edition (MCPE)  :  8535\n",
      "GUNS MODS for Minecraft PC Edition - Mods Tools  :  1497\n",
      "Real Bike Traffic Rider Virtual Reality Glasses  :  8\n"
     ]
    }
   ],
   "source": [
    "for app in ios_apps_eng_free:\n",
    "    if app[12] == 'Reference':\n",
    "        print(app[2], ' : ',app[6])"
   ]
  },
  {
   "cell_type": "code",
   "execution_count": 37,
   "metadata": {
    "scrolled": true
   },
   "outputs": [
    {
     "name": "stdout",
     "output_type": "stream",
     "text": [
      "Facebook  :  2974676\n",
      "LinkedIn  :  71856\n",
      "Skype for iPhone  :  373519\n",
      "Tumblr  :  334293\n",
      "Match™ - #1 Dating App.  :  60659\n",
      "WhatsApp Messenger  :  287589\n",
      "TextNow - Unlimited Text + Calls  :  164963\n",
      "Grindr - Gay and same sex guys chat, meet and date  :  23201\n",
      "imo video calls and chat  :  18841\n",
      "Ameba  :  269\n",
      "Weibo  :  7265\n",
      "Badoo - Meet New People, Chat, Socialize.  :  34428\n",
      "Kik  :  260965\n",
      "Qzone  :  1649\n",
      "Fake-A-Location Free ™  :  354\n",
      "Tango - Free Video Call, Voice and Chat  :  75412\n",
      "MeetMe - Chat and Meet New People  :  97072\n",
      "SimSimi  :  23530\n",
      "Viber Messenger – Text & Call  :  164249\n",
      "Find My Family, Friends & iPhone - Life360 Locator  :  43877\n",
      "Weibo HD  :  16772\n",
      "POF - Best Dating App for Conversations  :  52642\n",
      "GroupMe  :  28260\n",
      "Lobi  :  36\n",
      "WeChat  :  34584\n",
      "ooVoo – Free Video Call, Text and Voice  :  177501\n",
      "Pinterest  :  1061624\n",
      "知乎  :  397\n",
      "Qzone HD  :  458\n",
      "Skype for iPad  :  60163\n",
      "LINE  :  11437\n",
      "QQ  :  9109\n",
      "LOVOO - Dating Chat  :  1985\n",
      "QQ HD  :  5058\n",
      "Messenger  :  351466\n",
      "eHarmony™ Dating App - Meet Singles  :  11124\n",
      "YouNow: Live Stream Video Chat  :  12079\n",
      "Cougar Dating & Life Style App for Mature Women  :  213\n",
      "Battlefield™ Companion  :  689\n",
      "Whisper - Share, Express, Meet  :  39819\n",
      "We Heart It - Fashion, wallpapers, quotes, tattoos  :  90414\n",
      "Followers - Social Analytics For Instagram  :  112778\n",
      "InsTrack for Instagram - Analytics Plus More  :  85535\n",
      "Followers + for Instagram - Follower Analytics  :  28633\n",
      "Timehop  :  49510\n",
      "Repost for Instagram  :  15185\n",
      "LINE PLAY - Your Avatar World  :  34677\n",
      "Nextdoor  :  14402\n",
      "Hangouts  :  36404\n",
      "FollowMeter for Instagram - Followers Tracking  :  11976\n",
      "Telegram Messenger  :  7573\n",
      "Chatous - Chat with new people  :  1609\n",
      "QQ International  :  274\n",
      "FireChat  :  1037\n",
      "Jodel  :  1193\n",
      "Wishbone - Compare Anything  :  20649\n",
      "Zenly - Locate your friends in realtime  :  427\n",
      "Tantan  :  235\n",
      "Flinch - Video Chat Staring Contest  :  2134\n",
      "botman - Real time video chat  :  7\n",
      "豆瓣  :  407\n",
      "Marco Polo Video Walkie Talkie  :  27662\n",
      "After School - Funny Anonymous School News  :  18482\n",
      "Highrise - Your Avatar Community  :  2011\n",
      "Quick Reposter - Repost, Regram and Reshare Photos  :  17694\n",
      "Kiwi - Q&A  :  1538\n",
      "Periscope - Live Video Streaming Around the World  :  6062\n",
      "Inke—Broadcast an amazing life  :  147\n",
      "Discord - Chat for Gamers  :  9152\n",
      "Candid - Speak Your Mind Freely  :  398\n",
      "Down To Lunch  :  2535\n",
      "SOMA Messenger  :  3232\n",
      "Rawr Messenger - Dab your chat  :  180\n",
      "Popcorn Buzz - Free Group Calls  :  281\n",
      "Chain: Collaborate On MyVideo Story/Group Video  :  35\n",
      "BestieBox  :  0\n",
      "Selfeo  :  366\n",
      "Followers Analysis Tool For Instagram App Free  :  4253\n",
      "Hey! VINA - Where Women Meet New Friends  :  719\n",
      "PlayStation®Messages  :  1918\n",
      "WhenToPost: Best Time to Post Photos for Instagram  :  158\n",
      "MATCH ON LINE chat  :  0\n",
      "Fiesta by Tango - Chat & Meet New People  :  885\n",
      "Houseparty - Group Video Chat  :  3991\n",
      "All Devices for WhatsApp - Messenger for iPad  :  682\n",
      "Peach — share vividly  :  727\n",
      "bit-tube - Live Stream Video Chat  :  0\n",
      "Miitomo  :  23965\n",
      "SoundCloud Pulse: for creators  :  240\n",
      "IAmNaughty – Dating App to Meet New People Online  :  463\n",
      "League of Legends Friends  :  420\n",
      "GhostCodes - a discovery app for Snapchat  :  1313\n",
      "live.ly - live video streaming  :  4145\n",
      "Live.me – Live Video Chat & Make Friends Nearby  :  14724\n",
      "BOO! - Video chat camera with filters & stickers  :  1805\n",
      "Google Allo — smart messaging  :  862\n",
      "Google Duo - simple video calling  :  1033\n",
      "Chat for Whatsapp - iPad Version  :  5060\n",
      "Chat for Pokemon Go - GoChat  :  500\n",
      "niconico ch  :  0\n",
      "Followers Analytics for Instagram - InstaReport  :  13914\n",
      "Monkey  :  3060\n",
      "LINE BLOG  :  0\n",
      "Mustknow - anonymous video Q&A  :  53\n",
      "CTFxCmoji  :  39\n",
      "Fam — Group video calling for iMessage  :  279\n"
     ]
    }
   ],
   "source": [
    "for app in ios_apps_eng_free:\n",
    "    if app[12] == 'Social Networking':\n",
    "        print(app[2], ' : ',app[6])"
   ]
  },
  {
   "cell_type": "code",
   "execution_count": 39,
   "metadata": {
    "scrolled": true
   },
   "outputs": [
    {
     "name": "stdout",
     "output_type": "stream",
     "text": [
      "WeatherBug - Local Weather, Radar, Maps, Alerts  :  188583\n",
      "The Weather Channel: Forecast, Radar & Alerts  :  495626\n",
      "AccuWeather - Weather for Life  :  144214\n",
      "MyRadar NOAA Weather Radar Forecast  :  150158\n",
      "The Weather Channel App for iPad – best local forecast, radar map, and storm tracking  :  208648\n",
      "Météo-France  :  24\n",
      "Yurekuru Call  :  53\n",
      "QuakeFeed Earthquake Map, Alerts, and News  :  6081\n",
      "Moji Weather - Free Weather Forecast  :  2333\n",
      "FEMA  :  128\n",
      "Weather Underground: Custom Forecast & Local Radar  :  49192\n",
      "JaxReady  :  22\n",
      "Hurricane Tracker WESH 2 Orlando, Central Florida  :  203\n",
      "Hurricane by American Red Cross  :  1158\n",
      "Weather & Radar  :  37\n",
      "WRAL Weather Alert  :  25\n",
      "Yahoo Weather  :  112603\n",
      "Weather Live Free - Weather Forecast & Alerts  :  35702\n",
      "NOAA Weather Radar - Weather Forecast & HD Radar  :  45696\n",
      "iWeather - World weather forecast  :  80\n",
      "Almanac Long-Range Weather Forecast  :  12\n",
      "TodayAir  :  0\n",
      "Weather - Radar - Storm with Morecast App  :  78\n",
      "Storm Radar  :  22792\n",
      "WarnWetter  :  0\n",
      "wetter.com  :  0\n",
      "Forecast Bar  :  375\n",
      "Freddy the Frogcaster's Weather Station  :  14\n"
     ]
    }
   ],
   "source": [
    "for app in ios_apps_eng_free:\n",
    "    if app[12] == 'Weather':\n",
    "        print(app[2], ' : ',app[6])"
   ]
  },
  {
   "cell_type": "markdown",
   "metadata": {},
   "source": [
    "##### Google Play data"
   ]
  },
  {
   "cell_type": "code",
   "execution_count": 41,
   "metadata": {},
   "outputs": [
    {
     "name": "stdout",
     "output_type": "stream",
     "text": [
      "1,000,000+ : 15.728308699086089\n",
      "100,000+ : 11.55365000564143\n",
      "10,000,000+ : 10.549475346947986\n",
      "10,000+ : 10.199706645605326\n",
      "1,000+ : 8.394448832223853\n",
      "100+ : 6.916393997517771\n",
      "5,000,000+ : 6.826131106848697\n",
      "500,000+ : 5.562450637481666\n",
      "50,000+ : 4.772650344127271\n",
      "5,000+ : 4.513144533453684\n",
      "10+ : 3.542818458761142\n",
      "500+ : 3.2494640640866526\n",
      "50,000,000+ : 2.3017037120613786\n",
      "100,000,000+ : 2.1324607920568655\n",
      "50+ : 1.9180864267178157\n",
      "5+ : 0.7898002933543946\n",
      "1+ : 0.5077287600135394\n",
      "500,000,000+ : 0.270788672007221\n",
      "1,000,000,000+ : 0.2256572266726842\n",
      "0+ : 0.045131445334536835\n"
     ]
    }
   ],
   "source": [
    "display_table(gp_clean_eng_free, 5)"
   ]
  },
  {
   "cell_type": "markdown",
   "metadata": {},
   "source": [
    "The GP installs value is actually series of groups and not an precice number (not an intiger). Therefore, we will use the same appoach as taken for the iOS data and use count of ratings as a proxy"
   ]
  },
  {
   "cell_type": "code",
   "execution_count": 43,
   "metadata": {
    "scrolled": true
   },
   "outputs": [
    {
     "name": "stdout",
     "output_type": "stream",
     "text": [
      "ART_AND_DESIGN :  24699.42105263158\n",
      "AUTO_AND_VEHICLES :  14140.280487804877\n",
      "BEAUTY :  7476.226415094339\n",
      "BOOKS_AND_REFERENCE :  87995.06842105264\n",
      "BUSINESS :  24239.727272727272\n",
      "COMICS :  42585.61818181818\n",
      "COMMUNICATION :  995608.4634146341\n",
      "DATING :  21953.272727272728\n",
      "EDUCATION :  56293.09708737864\n",
      "ENTERTAINMENT :  301752.24705882353\n",
      "EVENTS :  2555.84126984127\n",
      "FINANCE :  38535.8993902439\n",
      "FOOD_AND_DRINK :  57478.79090909091\n",
      "HEALTH_AND_FITNESS :  78094.9706959707\n",
      "HOUSE_AND_HOME :  26435.465753424658\n",
      "LIBRARIES_AND_DEMO :  10925.807228915663\n",
      "LIFESTYLE :  33921.82369942196\n",
      "GAME :  683523.8445475638\n",
      "FAMILY :  113210.54626865672\n",
      "MEDICAL :  3730.1533546325877\n",
      "SOCIAL :  965830.9872881356\n",
      "SHOPPING :  223887.34673366835\n",
      "PHOTOGRAPHY :  404081.3754789272\n",
      "SPORTS :  116938.6146179402\n",
      "TRAVEL_AND_LOCAL :  129484.42512077295\n",
      "TOOLS :  305732.8973333333\n",
      "PERSONALIZATION :  181122.31632653062\n",
      "PRODUCTIVITY :  160634.5420289855\n",
      "PARENTING :  16378.706896551725\n",
      "WEATHER :  171250.77464788733\n",
      "VIDEO_PLAYERS :  425350.08176100627\n",
      "NEWS_AND_MAGAZINES :  93088.03225806452\n",
      "MAPS_AND_NAVIGATION :  142860.0483870968\n"
     ]
    }
   ],
   "source": [
    "cats_gp = freq_table(gp_clean_eng_free, 1)\n",
    "\n",
    "for cat in cats_gp:\n",
    "    total = 0\n",
    "    cat_len = 0\n",
    "    \n",
    "    for app in gp_clean_eng_free:\n",
    "        app_cat = app[1]\n",
    "        if app_cat == cat:\n",
    "            total += float(app[3])\n",
    "            cat_len += 1\n",
    "            \n",
    "    avg_n_ratings = total / cat_len\n",
    "    \n",
    "    print(cat, ': ', avg_n_ratings)"
   ]
  },
  {
   "cell_type": "markdown",
   "metadata": {},
   "source": [
    "Below are the aveage number of GP app ratings by category\n",
    "\n",
    "![gp average n ratings by cat](gp_avg_n_ratings_by_cat.jpg)"
   ]
  },
  {
   "cell_type": "code",
   "execution_count": 46,
   "metadata": {
    "scrolled": false
   },
   "outputs": [
    {
     "name": "stdout",
     "output_type": "stream",
     "text": [
      "WhatsApp Messenger  :  69119316\n",
      "Messenger for SMS  :  125257\n",
      "My Tele2  :  158679\n",
      "imo beta free calls and text  :  659395\n",
      "Contacts  :  66602\n",
      "Call Free – Free Call  :  30209\n",
      "Web Browser & Explorer  :  36901\n",
      "Browser 4G  :  192948\n",
      "MegaFon Dashboard  :  99559\n",
      "ZenUI Dialer & Contacts  :  437674\n",
      "Cricket Visual Voicemail  :  13698\n",
      "TracFone My Account  :  20769\n",
      "Xperia Link™  :  45487\n",
      "TouchPal Keyboard - Fun Emoji & Android Keyboard  :  615381\n",
      "Skype Lite - Free Video Call & Chat  :  33053\n",
      "My magenta  :  42370\n",
      "Android Messages  :  781810\n",
      "Google Duo - High Quality Video Calls  :  2083237\n",
      "Seznam.cz  :  46702\n",
      "Antillean Gold Telegram (original version)  :  2939\n",
      "AT&T Visual Voicemail  :  13761\n",
      "GMX Mail  :  258556\n",
      "Omlet Chat  :  40751\n",
      "My Vodacom SA  :  25021\n",
      "Microsoft Edge  :  27187\n",
      "Messenger – Text and Video Chat for Free  :  56646578\n",
      "imo free video calls and chat  :  4785988\n",
      "Calls & Text by Mo+  :  83239\n",
      "free video calls and chat  :  594728\n",
      "Skype - free IM & video calls  :  10484169\n",
      "Who  :  2451093\n",
      "GO SMS Pro - Messenger, Free Themes, Emoji  :  2876500\n",
      "Messaging+ SMS, MMS Free  :  28238\n",
      "chomp SMS  :  335646\n",
      "Glide - Video Chat Messenger  :  350154\n",
      "Text SMS  :  349384\n",
      "Talkray - Free Calls & Texts  :  244863\n",
      "LINE: Free Calls & Messages  :  10790289\n",
      "GroupMe  :  330761\n",
      "mysms SMS Text Messaging Sync  :  37320\n",
      "2ndLine - Second Phone Number  :  15880\n",
      "Google Chrome: Fast & Secure  :  9643041\n",
      "Firefox Browser fast & private  :  3075118\n",
      "Ninesky Browser  :  42925\n",
      "Dolphin Browser - Fast, Private & Adblock🐬  :  2511130\n",
      "UC Browser - Fast Download Private & Secure  :  17714850\n",
      "Ghostery Privacy Browser  :  13100\n",
      "InBrowser - Incognito Browsing  :  27156\n",
      "Lightning Web Browser  :  12578\n",
      "Web Browser  :  10965\n",
      "Contacts+  :  190613\n",
      "ExDialer - Dialer & Contacts  :  125232\n",
      "PHONE for Google Voice & GTalk  :  72065\n",
      "Safest Call Blocker  :  27540\n",
      "Full Screen Caller ID  :  104990\n",
      "Hiya - Caller ID & Block  :  177703\n",
      "Mr. Number-Block calls & spam  :  177263\n",
      "Should I Answer?  :  237468\n",
      "RocketDial Dialer & Contacts  :  32254\n",
      "CIA - Caller ID & Call Blocker  :  60308\n",
      "Calls Blacklist - Call Blocker  :  457283\n",
      "Call Control - Call Blocker  :  93825\n",
      "True Contact - Real Caller ID  :  32283\n",
      "Video Caller Id  :  15287\n",
      "Sync.ME – Caller ID & Block  :  205739\n",
      "Burner - Free Phone Number  :  14873\n",
      "Caller ID +  :  9498\n",
      "Gmail  :  4604483\n",
      "K-9 Mail  :  88427\n",
      "myMail – Email for Hotmail, Gmail and Outlook Mail  :  305218\n",
      "Email TypeApp - Mail App  :  183374\n",
      "All Email Providers  :  20901\n",
      "Newton Mail - Email App for Gmail, Outlook, IMAP  :  122595\n",
      "GO Notifier  :  124346\n",
      "Mail.Ru - Email App  :  837842\n",
      "Mail1Click - Secure Mail  :  255\n",
      "Daum Mail - Next Mail  :  41420\n",
      "mail.com mail  :  44706\n",
      "SolMail - All-in-One email app  :  23707\n",
      "Hangouts  :  3419513\n",
      "Vonage Mobile® Call Video Text  :  29208\n",
      "JusTalk - Free Video Calls and Fun Video Chat  :  191032\n",
      "Azar  :  1092337\n",
      "LokLok: Draw on a Lock Screen  :  14766\n",
      "Discord - Chat for Gamers  :  305347\n",
      "Messenger Lite: Free Calls & Messages  :  1429038\n",
      "AntennaPict β  :  15439\n",
      "Talkatone: Free Texts, Calls & Phone Number  :  132015\n",
      "Kik  :  2451136\n",
      "K-@ Mail - Email App  :  1760\n",
      "KakaoTalk: Free Calls & Text  :  2546549\n",
      "K-9 Material (unofficial)  :  64\n",
      "M star Dialer  :  400\n",
      "Free WiFi Connect  :  167229\n",
      "m:go BiH  :  559\n",
      "N-Com Wizard  :  960\n",
      "Opera Mini - fast web browser  :  5150801\n",
      "Opera Browser: Fast and Secure  :  2473795\n",
      "Opera Mini browser beta  :  401530\n",
      "Psiphon Pro - The Internet Freedom VPN  :  298041\n",
      "ICQ — Video Calls & Chat Messenger  :  697939\n",
      "Telegram  :  3128611\n",
      "AT&T Messages for Tablet  :  3044\n",
      "T-Mobile DIGITS  :  1820\n",
      "Truecaller: Caller ID, SMS spam blocking & Dialer  :  7820775\n",
      "Portable Wi-Fi hotspot  :  138129\n",
      "AT&T Call Protect  :  6454\n",
      "U - Webinars, Meetings & Messenger  :  6601\n",
      "UC Browser Mini -Tiny Fast Private & Secure  :  3648765\n",
      "/u/app  :  573\n",
      "[verify-U] VideoIdent  :  83\n",
      "Viber Messenger  :  11335481\n",
      "WeChat  :  5387631\n",
      "WhatsApp Business  :  137144\n",
      "WhatsCall Free Global Phone Call App & Cheap Calls  :  1130966\n",
      "X Browser  :  142\n",
      "Yahoo Mail – Stay Organized  :  4188345\n",
      "Free Adblocker Browser - Adblock & Popup Blocker  :  152470\n",
      "Adblock Browser for Android  :  121113\n",
      "CM Browser - Ad Blocker , Fast Download , Privacy  :  2265084\n",
      "Adblock Plus for Samsung Internet - Browse safe.  :  8769\n",
      "Ad Blocker Turbo - Adblocker Browser  :  107\n",
      "Brave Browser: Fast AdBlocker  :  40241\n",
      "AG Contacts, Lite edition  :  185\n",
      "Oklahoma Ag Co-op Council  :  0\n",
      "Bee'ah Employee App  :  4\n",
      "tournaments and more.aj.2  :  0\n",
      "Aj.Petra  :  5\n",
      "AK Phone  :  9\n",
      "PlacarTv Futebol Ao Vivo  :  2063\n",
      "WiFi Access Point (hotspot)  :  684\n",
      "Access Point Names  :  138\n",
      "Puffin Web Browser  :  541661\n",
      "ClanHQ  :  560\n",
      "Ear Agent: Super Hearing  :  42329\n",
      "Google Voice  :  171052\n",
      "Google Allo  :  347086\n",
      "AU Call Blocker - Block Unwanted Calls Texts 2018  :  16\n",
      "Baby Monitor AV  :  1434\n",
      "AV Phone  :  4\n",
      "AW - free video calls and chat  :  7317\n",
      "Katalogen.ax  :  1\n",
      "AZ Browser. Private & Download  :  1520\n",
      "BA SALES  :  0\n",
      "BD Data Plan (3G & 4G)  :  10341\n",
      "BD Internet Packages (Updated)  :  474\n",
      "BD Dialer  :  29\n",
      "BD Live Call  :  7\n",
      "Best Browser BD social networking  :  6\n",
      "Traffic signs BD  :  7\n",
      "BF Browser by Betfilter - Stop Gambling Today!  :  39\n",
      "My BF App  :  141\n",
      "BH Mail  :  7\n",
      "Zalo – Video Call  :  1042170\n",
      "BJ - Confidential  :  0\n",
      "BK Chat  :  6\n",
      "Of the wall Arapaho bk  :  0\n",
      "AC-BL  :  0\n",
      "BBM - Free Calls & Messages  :  12843436\n",
      "DMR BrandMeister Tool  :  78\n",
      "BBMoji - Your personalized BBM Stickers  :  8827\n",
      "BN MALLORCA Radio  :  23\n",
      "BQ Partners  :  0\n",
      "BS-Mobile  :  1\n",
      "ATC Unico BS  :  10\n",
      "BT One Voice mobile access  :  32\n",
      "BT Messenger  :  97\n",
      "BT One Phone Mobile App  :  33\n",
      "SW-100.tch by Callstel  :  1926\n",
      "BT MeetMe with Dolby Voice  :  437\n",
      "Bluetooth Auto Connect  :  20829\n",
      "AudioBT: BT audio GPS/SMS/Text  :  198\n",
      "BV  :  3\n",
      "Feel Performer  :  62\n",
      "Tiny Call Confirm  :  22782\n",
      "CB Radio Chat - for friends!  :  17998\n",
      "CB On Mobile  :  901\n",
      "Virtual Walkie Talkie  :  21785\n",
      "Channel 19  :  916\n",
      "Cb browser  :  5\n",
      "CF Chat: Connecting Friends  :  5\n",
      "retteMi.ch  :  31\n",
      "Chrome Dev  :  63576\n",
      "CJ Browser - Fast & Private  :  5\n",
      "CJ DVD Rentals  :  5\n",
      "CK Call NEW  :  0\n",
      "CM Transfer - Share any files with friends nearby  :  71740\n",
      "mail.co.uk Mail  :  21\n",
      "ClanPlay: Community and Tools for Gamers  :  34443\n",
      "CQ-Mobile  :  10\n",
      "CQ-Alert  :  3\n",
      "QRZ Assistant  :  1044\n",
      "Pocket Prefix Plus  :  192\n",
      "Ham Radio Prefixes  :  218\n",
      "CS Customizer  :  25\n",
      "CS Browser | #1 & BEST BROWSER  :  52\n",
      "CS Browser Beta  :  125\n",
      "My Vodafone (GR)  :  12667\n",
      "IZ2UUF Morse Koch CW  :  649\n",
      "C W Browser  :  14\n",
      "CW Bluetooth SPP  :  3\n",
      "CW BLE Peripheral Simulator  :  2\n",
      "Morse Code Reader  :  1436\n",
      "Learn Morse Code - G0HYN Learn Morse  :  27\n",
      "Ring  :  517\n",
      "Hyundai CX Conference  :  0\n",
      "Cy Messenger  :  4\n",
      "Amadeus GR & CY  :  4\n",
      "Hlášenírozhlasu.cz  :  0\n",
      "SMS Sender - sluzba.cz  :  12\n",
      "WEB.DE Mail  :  226541\n",
      "Your Freedom VPN Client  :  74497\n",
      "CallApp: Caller ID, Blocker & Phone Call Recorder  :  483782\n",
      "Rádio Sol Nascente DF  :  12\n",
      "DG Card  :  0\n",
      "Whoscall - Caller ID & Block  :  552635\n",
      "DK Browser  :  1\n",
      "cluster.dk  :  49\n",
      "DK TEL Dialer  :  0\n",
      "DM for WhatsApp  :  25\n",
      "DM Talk New  :  3\n",
      "DM - The Offical Messaging App  :  0\n",
      "DM Tracker  :  11\n",
      "Call Blocker & Blacklist  :  6\n",
      "ReadyOp DT  :  8\n",
      "DU Browser—Browse fast & fun  :  1133539\n",
      "Caller ID & Call Block - DU Caller  :  93930\n",
      "BlueDV AMBE  :  0\n",
      "DW Contacts & Phone & Dialer  :  21186\n",
      "Deaf World DW  :  298\n",
      "Ham DX Cluster & Spots Finder  :  115\n",
      "Mircules DX Cluster Lite  :  51\n",
      "3G DZ Configuration  :  488\n",
      "chat dz  :  8\n",
      "love sms good morning  :  10\n",
      "Goodbox - Mega App  :  3429\n",
      "Call Blocker - Blacklist, SMS Blocker  :  30350\n",
      "[EF]ShoutBox  :  3\n",
      "Eg Call  :  91\n",
      "ei  :  2\n",
      "EJ messenger  :  1\n",
      "Ek IRA  :  0\n",
      "Orfox: Tor Browser for Android  :  44233\n",
      "EO Mumbai  :  0\n",
      "EP RSS Reader  :  4\n",
      "Voxer Walkie Talkie Messenger  :  230564\n",
      "ES-1  :  6\n",
      "Hangouts Dialer - Call Phones  :  122512\n",
      "EU Council  :  7\n",
      "Council Voting Calculator  :  33\n",
      "Have your say on Europe  :  19\n",
      "Programi podrške EU  :  0\n",
      "Inbox.eu  :  98\n",
      "Web Browser for Android  :  55110\n",
      "Everbridge  :  497\n",
      "Best Auto Call Recorder Free  :  7\n",
      "EZ Wifi Notification  :  260\n",
      "Test Server SMS FA  :  0\n",
      "Lite for Facebook Messenger  :  76498\n",
      "FC Browser - Focus Privacy Browser  :  26\n",
      "EHiN-FH conferenceapp  :  5\n",
      "Carpooling FH Hagenberg  :  0\n",
      "Wi-Fi Auto-connect  :  15036\n",
      "Talkie - Wi-Fi Calling, Chats, File Sharing  :  4838\n",
      "WeFi - Free Fast WiFi Connect & Find Wi-Fi Map  :  13469\n",
      "Sat-Fi  :  97\n",
      "Portable Wi-Fi hotspot Free  :  1711\n",
      "TownWiFi | Wi-Fi Everywhere  :  2372\n",
      "Jazz Wi-Fi  :  49\n",
      "Sat-Fi Voice  :  37\n",
      "Free Wi-fi HotspoT  :  382\n",
      "FN Web Radio  :  0\n",
      "FNH Payment Info  :  0\n",
      "MARKET FO  :  0\n",
      "FO OP St-Nazaire  :  1\n",
      "FO SODEXO  :  0\n",
      "FO RCBT  :  5\n",
      "FO Interim  :  1\n",
      "FO PSA Sept-Fons  :  2\n",
      "FO AIRBUS TLSE  :  4\n",
      "FO STELIA Méaulte  :  2\n",
      "FO AIRBUS Nantes  :  0\n",
      "Firefox Focus: The privacy browser  :  36981\n",
      "FP Connect  :  0\n",
      "FreedomPop Messaging Phone/SIM  :  9894\n",
      "FP Live  :  0\n",
      "HipChat - beta version  :  1035\n"
     ]
    }
   ],
   "source": [
    "for app in gp_clean_eng_free:\n",
    "    if app[1] == 'COMMUNICATION':\n",
    "        print(app[0], ' : ',app[3])"
   ]
  },
  {
   "cell_type": "code",
   "execution_count": 47,
   "metadata": {
    "scrolled": true
   },
   "outputs": [
    {
     "name": "stdout",
     "output_type": "stream",
     "text": [
      "E-Book Read - Read Book for free  :  1857\n",
      "Download free book with green book  :  4478\n",
      "Wikipedia  :  577550\n",
      "Cool Reader  :  246315\n",
      "Free Panda Radio Music  :  418\n",
      "Book store  :  22486\n",
      "FBReader: Favorite Book Reader  :  203130\n",
      "English Grammar Complete Handbook  :  1435\n",
      "Free Books - Spirit Fanfiction and Stories  :  116507\n",
      "Google Play Books  :  1433233\n",
      "AlReader -any text book reader  :  90468\n",
      "Offline English Dictionary  :  860\n",
      "Offline: English to Tagalog Dictionary  :  967\n",
      "FamilySearch Tree  :  17506\n",
      "Cloud of Books  :  1862\n",
      "Recipes of Prophetic Medicine for free  :  2084\n",
      "ReadEra – free ebook reader  :  47303\n",
      "Anonymous caller detection  :  161\n",
      "Ebook Reader  :  85842\n",
      "Litnet - E-books  :  7831\n",
      "Read books online  :  91615\n",
      "English to Urdu Dictionary  :  4620\n",
      "eBoox: book reader fb2 epub zip  :  21336\n",
      "English Persian Dictionary  :  26875\n",
      "Flybook  :  1778\n",
      "All Maths Formulas  :  2709\n",
      "Ancestry  :  64513\n",
      "HTC Help  :  8342\n",
      "English translation from Bengali  :  527\n",
      "Pdf Book Download - Read Pdf Book  :  1322\n",
      "Free Book Reader  :  1680\n",
      "eBoox new: Reader for fb2 epub zip books  :  2739\n",
      "Only 30 days in English, the guideline is guaranteed  :  1065\n",
      "Moon+ Reader  :  233757\n",
      "SH-02J Owner's Manual (Android 8.0)  :  2\n",
      "English-Myanmar Dictionary  :  8788\n",
      "Golden Dictionary (EN-AR)  :  51269\n",
      "All Language Translator Free  :  30105\n",
      "Azpen eReader  :  156\n",
      "URBANO V 02 instruction manual  :  114\n",
      "Bible  :  2440695\n",
      "C Programs and Reference  :  873\n",
      "C Offline Tutorial  :  88\n",
      "C Programs Handbook  :  459\n",
      "Amazon Kindle  :  814151\n",
      "Aab e Hayat Full Novel  :  1476\n",
      "Aldiko Book Reader  :  210534\n",
      "Google I/O 2018  :  22401\n",
      "R Language Reference Guide  :  54\n",
      "Learn R Programming Full  :  11\n",
      "R Programing Offline Tutorial  :  4\n",
      "Guide for R Programming  :  0\n",
      "Learn R Programming  :  0\n",
      "R Quick Reference Big Data  :  6\n",
      "V Made  :  241\n",
      "Wattpad 📖 Free Books  :  2915189\n",
      "Dictionary - WordWeb  :  124970\n",
      "Guide (for X-MEN)  :  586\n",
      "AC Air condition Troubleshoot,Repair,Maintenance  :  27\n",
      "AE Bulletins  :  14\n",
      "Ae Allah na Dai (Rasa)  :  263\n",
      "50000 Free eBooks & Free AudioBooks  :  52312\n",
      "Ag PhD Field Guide  :  114\n",
      "Ag PhD Deficiencies  :  20\n",
      "Ag PhD Planting Population Calculator  :  0\n",
      "Ag PhD Soybean Diseases  :  0\n",
      "Fertilizer Removal By Crop  :  295\n",
      "A-J Media Vault  :  1\n",
      "Al-Quran (Free)  :  218451\n",
      "Al Quran (Tafsir & by Word)  :  57400\n",
      "Al Quran Indonesia  :  445756\n",
      "Al'Quran Bahasa Indonesia  :  361780\n",
      "Al Quran Al karim  :  41608\n",
      "Al-Muhaffiz  :  2319\n",
      "Al Quran : EAlim - Translations & MP3 Offline  :  96419\n",
      "Al-Quran 30 Juz free copies  :  12322\n",
      "Koran Read &MP3 30 Juz Offline  :  29551\n",
      "Hafizi Quran 15 lines per page  :  55011\n",
      "Quran for Android  :  497826\n",
      "Surah Al-Waqiah  :  1201\n",
      "Hisnul Al Muslim - Hisn Invocations & Adhkaar  :  3234\n",
      "Satellite AR  :  9636\n",
      "Audiobooks from Audible  :  568922\n",
      "Kinot & Eichah for Tisha B'Av  :  98\n",
      "AW Tozer Devotionals - Daily  :  8\n",
      "Tozer Devotional -Series 1  :  5\n",
      "The Pursuit of God  :  6\n",
      "AY Sing  :  111\n",
      "Ay Hasnain k Nana Milad Naat  :  72\n",
      "Ay Mohabbat Teri Khatir Novel  :  27\n",
      "Arizona Statutes, ARS (AZ Law)  :  9\n",
      "Oxford A-Z of English Usage  :  5300\n",
      "BD Fishpedia  :  123\n",
      "BD All Sim Offer  :  197\n",
      "Youboox - Livres, BD et magazines  :  4071\n",
      "B&H Kids AR  :  286\n",
      "B y H Niños ES  :  53\n",
      "Dictionary.com: Find Definitions for English Words  :  899010\n",
      "English Dictionary - Offline  :  341234\n",
      "Bible KJV  :  42729\n",
      "Borneo Bible, BM Bible  :  659\n",
      "MOD Black for BM  :  2\n",
      "BM Box  :  28\n",
      "Anime Mod for BM  :  0\n",
      "NOOK: Read eBooks & Magazines  :  155466\n",
      "NOOK Audiobooks  :  2539\n",
      "NOOK App for NOOK Devices  :  19090\n",
      "Browsery by Barnes & Noble  :  146\n",
      "bp e-store  :  52\n",
      "Brilliant Quotes: Life, Love, Family & Motivation  :  67186\n",
      "BR Ambedkar Biography & Quotes  :  156\n",
      "BU Alsace  :  3\n",
      "Catholic La Bu Zo Kam  :  23\n",
      "Khrifa Hla Bu (Solfa)  :  0\n",
      "Kristian Hla Bu  :  238\n",
      "SA HLA BU  :  119\n",
      "Learn SAP BW  :  2\n",
      "Learn SAP BW on HANA  :  0\n",
      "CA Laws 2018 (California Laws and Codes)  :  56\n",
      "Bootable Methods(USB-CD-DVD)  :  37\n",
      "cloudLibrary  :  10774\n",
      "SDA Collegiate Quarterly  :  8\n",
      "Sabbath School  :  28237\n",
      "Cypress College Library  :  0\n",
      "Stats Royale for Clash Royale  :  68226\n",
      "GATE 21 years CS Papers(2011-2018 Solved)  :  1\n",
      "Learn CT Scan Of Head  :  10\n",
      "Easy Cv maker 2018  :  88\n",
      "How to Write CV  :  244\n",
      "CW Nuclear  :  15\n",
      "CY Spray nozzle  :  0\n",
      "BibleRead En Cy Zh Yue  :  0\n",
      "CZ-Help  :  2\n",
      "Modlitební knížka CZ  :  4\n",
      "Guide for DB Xenoverse  :  459\n",
      "Guide for DB Xenoverse 2  :  121\n",
      "Guide for IMS DB  :  0\n",
      "DC HSEMA  :  38\n",
      "DC Public Library  :  20\n",
      "Painting Lulu DC Super Friends  :  7\n",
      "Dictionary  :  264260\n",
      "Fix Error Google Playstore  :  18\n",
      "D. H. Lawrence Poems FREE  :  13\n",
      "Bilingual Dictionary Audio App  :  68\n",
      "DM Screen  :  283\n",
      "wikiHow: how to do anything  :  43088\n",
      "Dr. Doug's Tips  :  22\n",
      "Bible du Semeur-BDS (French)  :  313\n",
      "La citadelle du musulman  :  314\n",
      "DV 2019 Entry Guide  :  92\n",
      "DV 2019 - EDV Photo & Form  :  314\n",
      "DV 2018 Winners Guide  :  11\n",
      "EB Annual Meetings  :  11\n",
      "EC - AP & Telangana  :  10\n",
      "TN Patta Citta & EC  :  48\n",
      "AP Stamps and Registration  :  82\n",
      "CompactiMa EC pH Calibration  :  0\n",
      "EGW Writings 2  :  6547\n",
      "EGW Writings  :  24278\n",
      "Bible with EGW Comments  :  3776\n",
      "My Little Pony AR Guide  :  7993\n",
      "SDA Sabbath School Quarterly  :  14773\n",
      "Duaa Ek Ibaadat  :  122\n",
      "Spanish English Translator  :  87919\n",
      "Dictionary - Merriam-Webster  :  454412\n",
      "JW Library  :  922752\n",
      "Oxford Dictionary of English : Free  :  364452\n",
      "English Hindi Dictionary  :  384368\n",
      "English to Hindi Dictionary  :  71328\n",
      "EP Research Service  :  14\n",
      "Hymnes et Louanges  :  1877\n",
      "EU Charter  :  33\n",
      "EU Data Protection  :  29\n",
      "EU IP Codes  :  2\n",
      "EW PDF  :  0\n",
      "BakaReader EX  :  8894\n",
      "EZ Quran  :  595\n",
      "FA Part 1 & 2 Past Papers Solved Free – Offline  :  46\n",
      "La Fe de Jesus  :  8\n",
      "La Fe de Jesús  :  10\n",
      "Le Fe de Jesus  :  3\n",
      "Florida - Pocket Brainbook  :  7\n",
      "Florida Statutes (FL Code)  :  5\n",
      "English To Shona Dictionary  :  60\n",
      "Greek Bible FP (Audio)  :  5\n",
      "Golden Dictionary (FR-AR)  :  5775\n",
      "Fanfic-FR  :  52\n",
      "Bulgarian French Dictionary Fr  :  603\n",
      "Chemin (fr)  :  44\n",
      "The SCP Foundation DB fr nn5n  :  114\n"
     ]
    }
   ],
   "source": [
    "for app in gp_clean_eng_free:\n",
    "    if app[1] == 'BOOKS_AND_REFERENCE':\n",
    "        print(app[0], ' : ',app[3])"
   ]
  },
  {
   "cell_type": "markdown",
   "metadata": {},
   "source": [
    "We can also try considering the `Installs` field as actual numbers. For instance, if an app is in the `100,000+` group we could assume it has 100,000 installs."
   ]
  },
  {
   "cell_type": "code",
   "execution_count": 50,
   "metadata": {
    "scrolled": true
   },
   "outputs": [
    {
     "name": "stdout",
     "output_type": "stream",
     "text": [
      "ART_AND_DESIGN  :  1986335.0877192982\n",
      "AUTO_AND_VEHICLES  :  647317.8170731707\n",
      "BEAUTY  :  513151.88679245283\n",
      "BOOKS_AND_REFERENCE  :  8767811.894736841\n",
      "BUSINESS  :  1712290.1474201474\n",
      "COMICS  :  817657.2727272727\n",
      "COMMUNICATION  :  38456119.167247385\n",
      "DATING  :  854028.8303030303\n",
      "EDUCATION  :  1833495.145631068\n",
      "ENTERTAINMENT  :  11640705.88235294\n",
      "EVENTS  :  253542.22222222222\n",
      "FINANCE  :  1387692.475609756\n",
      "FOOD_AND_DRINK  :  1924897.7363636363\n",
      "HEALTH_AND_FITNESS  :  4188821.9853479853\n",
      "HOUSE_AND_HOME  :  1331540.5616438356\n",
      "LIBRARIES_AND_DEMO  :  638503.734939759\n",
      "LIFESTYLE  :  1437816.2687861272\n",
      "GAME  :  15588015.603248259\n",
      "FAMILY  :  3697848.1731343283\n",
      "MEDICAL  :  120550.61980830671\n",
      "SOCIAL  :  23253652.127118643\n",
      "SHOPPING  :  7036877.311557789\n",
      "PHOTOGRAPHY  :  17840110.40229885\n",
      "SPORTS  :  3638640.1428571427\n",
      "TRAVEL_AND_LOCAL  :  13984077.710144928\n",
      "TOOLS  :  10801391.298666667\n",
      "PERSONALIZATION  :  5201482.6122448975\n",
      "PRODUCTIVITY  :  16787331.344927534\n",
      "PARENTING  :  542603.6206896552\n",
      "WEATHER  :  5074486.197183099\n",
      "VIDEO_PLAYERS  :  24727872.452830188\n",
      "NEWS_AND_MAGAZINES  :  9549178.467741935\n",
      "MAPS_AND_NAVIGATION  :  4056941.7741935486\n"
     ]
    }
   ],
   "source": [
    "cats_gp = freq_table(gp_clean_eng_free, 1)\n",
    "\n",
    "for category in cats_gp:\n",
    "    total = 0\n",
    "    cat_len = 0\n",
    "    \n",
    "    for app in gp_clean_eng_free:\n",
    "        app_cat = app[1]\n",
    "        \n",
    "        if app_cat == category:\n",
    "            installs = app[5]\n",
    "            installs = installs.replace('+', '')\n",
    "            installs = installs.replace(',', '')\n",
    "            installs = int(installs)\n",
    "            total += installs\n",
    "            cat_len += 1\n",
    "    \n",
    "    avg_installs = total / cat_len\n",
    "    \n",
    "    print(category, ' : ', avg_installs)"
   ]
  },
  {
   "cell_type": "markdown",
   "metadata": {},
   "source": [
    "Below are the aveage number of installs by category. Note that these results are not significanty different for the user rating count proxy considered above\n",
    "\n",
    "![gp average n ratings by cat](gp_avg_installs_by_cat.jpg)"
   ]
  },
  {
   "cell_type": "markdown",
   "metadata": {},
   "source": [
    "## Conclusions\n",
    "---"
   ]
  },
  {
   "cell_type": "markdown",
   "metadata": {},
   "source": [
    "The two app stores appear to be dominated by different app types. On face value there do appear to be some popular app categories, however when we look into these it is clear they are often dominated by several very popular apps, thus skewing the apparently popularity of the overall category.\n",
    "\n",
    "Apps categories that do appear to present more genuine and interesting options are:\n",
    "- Productivity apps\n",
    "- Tools apps (similar to Productivity)\n",
    "- Books and Reference type apps"
   ]
  }
 ],
 "metadata": {
  "kernelspec": {
   "display_name": "Python 3",
   "language": "python",
   "name": "python3"
  },
  "language_info": {
   "codemirror_mode": {
    "name": "ipython",
    "version": 3
   },
   "file_extension": ".py",
   "mimetype": "text/x-python",
   "name": "python",
   "nbconvert_exporter": "python",
   "pygments_lexer": "ipython3",
   "version": "3.8.5"
  }
 },
 "nbformat": 4,
 "nbformat_minor": 4
}
